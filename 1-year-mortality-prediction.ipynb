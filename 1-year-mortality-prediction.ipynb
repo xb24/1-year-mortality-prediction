{
  "nbformat": 4,
  "nbformat_minor": 0,
  "metadata": {
    "colab": {
      "provenance": [],
      "include_colab_link": true
    },
    "kernelspec": {
      "display_name": "Python 3",
      "name": "python3"
    },
    "language_info": {
      "name": "python"
    }
  },
  "cells": [
    {
      "cell_type": "markdown",
      "metadata": {
        "id": "view-in-github",
        "colab_type": "text"
      },
      "source": [
        "<a href=\"https://colab.research.google.com/github/xb24/1-year-mortality-prediction/blob/main/1-year-mortality-prediction.ipynb\" target=\"_parent\"><img src=\"https://colab.research.google.com/assets/colab-badge.svg\" alt=\"Open In Colab\"/></a>"
      ]
    },
    {
      "cell_type": "markdown",
      "metadata": {
        "id": "n-YPwAOOaxr4"
      },
      "source": [
        "# BME 590： Data Science and Health --- Final Project\n",
        "### Xiaoke Bi, Zhixiong (Jack) Li, Zhe (Wade) Wei, Rui Yang"
      ]
    },
    {
      "cell_type": "markdown",
      "metadata": {
        "id": "RZ-flMnxbQRO"
      },
      "source": [
        "## Background and Overview"
      ]
    },
    {
      "cell_type": "markdown",
      "metadata": {
        "id": "lXn44HxOcCAZ"
      },
      "source": [
        "Long-term mortality is one of the key metrics for assessing continuity of care and severity of dieseases at the population level, wherein the health outcomes of patients are often tracked for 6 month or 1 year after receiving medical care. At patient's level, a reliable 1-year mortality prediction allows health care providers to give patients specialized course of action. Over the past dacades, several clinical risk scores have been introduced to predict patients' mortality. Early risk scores mostly relied upon subjective or statistical methods. Such methods either require clinicians' expertise or impose stringent constraints on the relationship between variables and outcomes. For example, the most widely-used logistic regression model relies on the assumption of a linear and additive relationship between variables and mortality, largely underestimating the complexity of a realistic mortality prediction model. More recently, machine learning approaches, driven by health and clinical database such as MIMIC, give rise to more precise and accurate mortality prediction models that take into account the complex nature of disease mortality. Here, we developed a machine learning-based model for 1-year mortality prediction using MIMIC-III database."
      ]
    },
    {
      "cell_type": "markdown",
      "metadata": {
        "id": "RqIvq3IPbc2m"
      },
      "source": [
        "## Data"
      ]
    },
    {
      "cell_type": "code",
      "metadata": {
        "colab": {
          "base_uri": "https://localhost:8080/"
        },
        "id": "x_p84ms3N-z4",
        "outputId": "bd37cb76-4988-4e72-945c-0a4425e70906"
      },
      "source": [
        "# Download MIMIC III data from physionet.org\n",
        "!wget -r -N -c -np --user zl277@duke.edu --ask-password https://physionet.org/files/mimiciii/1.4/ADMISSIONS.csv.gz\n",
        "!wget -r -N -c -np --user zl277@duke.edu --ask-password https://physionet.org/files/mimiciii/1.4/PATIENTS.csv.gz\n",
        "!wget -r -N -c -np --user zl277@duke.edu --ask-password https://physionet.org/files/mimiciii/1.4/D_ICD_DIAGNOSES.csv.gz\n",
        "!wget -r -N -c -np --user zl277@duke.edu --ask-password https://physionet.org/files/mimiciii/1.4/MICROBIOLOGYEVENTS.csv.gz\n",
        "!wget -r -N -c -np --user zl277@duke.edu --ask-password https://physionet.org/files/mimiciii/1.4/PROCEDUREEVENTS_MV.csv.gz\n",
        "!wget -r -N -c -np --user zl277@duke.edu --ask-password https://physionet.org/files/mimiciii/1.4/CPTEVENTS.csv.gz\n",
        "!wget -r -N -c -np --user zl277@duke.edu --ask-password https://physionet.org/files/mimiciii/1.4/DATETIMEEVENTS.csv.gz\n",
        "!wget -r -N -c -np --user zl277@duke.edu --ask-password https://physionet.org/files/mimiciii/1.4/LABEVENTS.csv.gz\n",
        "!wget -r -N -c -np --user zl277@duke.edu --ask-password https://physionet.org/files/mimiciii/1.4/NOTEEVENTS.csv.gz\n",
        "!wget -r -N -c -np --user zl277@duke.edu --ask-password https://physionet.org/files/mimiciii/1.4/OUTPUTEVENTS.csv.gz\n",
        "!wget -r -N -c -np --user zl277@duke.edu --ask-password https://physionet.org/files/mimiciii/1.4/PRESCRIPTIONS.csv.gz\n",
        "!wget -r -N -c -np --user zl277@duke.edu --ask-password https://physionet.org/files/mimiciii/1.4/ICUSTAYS.csv.gz\n",
        "!wget -r -N -c -np --user zl277@duke.edu --ask-password https://physionet.org/files/mimiciii/1.4/DIAGNOSES_ICD.csv.gz\n",
        "!wget -r -N -c -np --user zl277@duke.edu --ask-password https://physionet.org/files/mimiciii/1.4/D_ITEMS.csv.gz"
      ],
      "execution_count": null,
      "outputs": [
        {
          "output_type": "stream",
          "text": [
            "Password for user ‘zl277@duke.edu’: \n",
            "--2021-04-29 15:00:24--  https://physionet.org/files/mimiciii/1.4/ADMISSIONS.csv.gz\n",
            "Resolving physionet.org (physionet.org)... 18.18.42.54\n",
            "Connecting to physionet.org (physionet.org)|18.18.42.54|:443... connected.\n",
            "HTTP request sent, awaiting response... 401 Unauthorized\n",
            "Authentication selected: Basic realm=\"PhysioNet\", charset=\"UTF-8\"\n",
            "Reusing existing connection to physionet.org:443.\n",
            "HTTP request sent, awaiting response... 200 OK\n",
            "Length: 2525254 (2.4M) [application/gzip]\n",
            "Saving to: ‘physionet.org/files/mimiciii/1.4/ADMISSIONS.csv.gz’\n",
            "\n",
            "physionet.org/files 100%[===================>]   2.41M  1.26MB/s    in 1.9s    \n",
            "\n",
            "2021-04-29 15:00:27 (1.26 MB/s) - ‘physionet.org/files/mimiciii/1.4/ADMISSIONS.csv.gz’ saved [2525254/2525254]\n",
            "\n",
            "FINISHED --2021-04-29 15:00:27--\n",
            "Total wall clock time: 8.8s\n",
            "Downloaded: 1 files, 2.4M in 1.9s (1.26 MB/s)\n",
            "Password for user ‘zl277@duke.edu’: \n",
            "--2021-04-29 15:00:32--  https://physionet.org/files/mimiciii/1.4/DIAGNOSES_ICD.csv.gz\n",
            "Resolving physionet.org (physionet.org)... 18.18.42.54\n",
            "Connecting to physionet.org (physionet.org)|18.18.42.54|:443... connected.\n",
            "HTTP request sent, awaiting response... 401 Unauthorized\n",
            "Authentication selected: Basic realm=\"PhysioNet\", charset=\"UTF-8\"\n",
            "Reusing existing connection to physionet.org:443.\n",
            "HTTP request sent, awaiting response... 200 OK\n",
            "Length: 4717463 (4.5M) [application/gzip]\n",
            "Saving to: ‘physionet.org/files/mimiciii/1.4/DIAGNOSES_ICD.csv.gz’\n",
            "\n",
            "physionet.org/files 100%[===================>]   4.50M  1.70MB/s    in 2.6s    \n",
            "\n",
            "2021-04-29 15:00:36 (1.70 MB/s) - ‘physionet.org/files/mimiciii/1.4/DIAGNOSES_ICD.csv.gz’ saved [4717463/4717463]\n",
            "\n",
            "FINISHED --2021-04-29 15:00:36--\n",
            "Total wall clock time: 9.0s\n",
            "Downloaded: 1 files, 4.5M in 2.6s (1.70 MB/s)\n",
            "Password for user ‘zl277@duke.edu’: \n",
            "--2021-04-29 15:00:41--  https://physionet.org/files/mimiciii/1.4/PATIENTS.csv.gz\n",
            "Resolving physionet.org (physionet.org)... 18.18.42.54\n",
            "Connecting to physionet.org (physionet.org)|18.18.42.54|:443... connected.\n",
            "HTTP request sent, awaiting response... 401 Unauthorized\n",
            "Authentication selected: Basic realm=\"PhysioNet\", charset=\"UTF-8\"\n",
            "Reusing existing connection to physionet.org:443.\n",
            "HTTP request sent, awaiting response... 200 OK\n",
            "Length: 571615 (558K) [application/gzip]\n",
            "Saving to: ‘physionet.org/files/mimiciii/1.4/PATIENTS.csv.gz’\n",
            "\n",
            "physionet.org/files 100%[===================>] 558.22K   739KB/s    in 0.8s    \n",
            "\n",
            "2021-04-29 15:00:43 (739 KB/s) - ‘physionet.org/files/mimiciii/1.4/PATIENTS.csv.gz’ saved [571615/571615]\n",
            "\n",
            "FINISHED --2021-04-29 15:00:43--\n",
            "Total wall clock time: 6.7s\n",
            "Downloaded: 1 files, 558K in 0.8s (739 KB/s)\n",
            "Password for user ‘zl277@duke.edu’: \n",
            "--2021-04-29 15:00:47--  https://physionet.org/files/mimiciii/1.4/D_ICD_DIAGNOSES.csv.gz\n",
            "Resolving physionet.org (physionet.org)... 18.18.42.54\n",
            "Connecting to physionet.org (physionet.org)|18.18.42.54|:443... connected.\n",
            "HTTP request sent, awaiting response... 401 Unauthorized\n",
            "Authentication selected: Basic realm=\"PhysioNet\", charset=\"UTF-8\"\n",
            "Reusing existing connection to physionet.org:443.\n",
            "HTTP request sent, awaiting response... 200 OK\n",
            "Length: 284950 (278K) [application/gzip]\n",
            "Saving to: ‘physionet.org/files/mimiciii/1.4/D_ICD_DIAGNOSES.csv.gz’\n",
            "\n",
            "physionet.org/files 100%[===================>] 278.27K   482KB/s    in 0.6s    \n",
            "\n",
            "2021-04-29 15:00:49 (482 KB/s) - ‘physionet.org/files/mimiciii/1.4/D_ICD_DIAGNOSES.csv.gz’ saved [284950/284950]\n",
            "\n",
            "FINISHED --2021-04-29 15:00:49--\n",
            "Total wall clock time: 6.1s\n",
            "Downloaded: 1 files, 278K in 0.6s (482 KB/s)\n",
            "Password for user ‘zl277@duke.edu’: \n",
            "--2021-04-29 15:00:54--  https://physionet.org/files/mimiciii/1.4/MICROBIOLOGYEVENTS.csv.gz\n",
            "Resolving physionet.org (physionet.org)... 18.18.42.54\n",
            "Connecting to physionet.org (physionet.org)|18.18.42.54|:443... connected.\n",
            "HTTP request sent, awaiting response... 401 Unauthorized\n",
            "Authentication selected: Basic realm=\"PhysioNet\", charset=\"UTF-8\"\n",
            "Reusing existing connection to physionet.org:443.\n",
            "HTTP request sent, awaiting response... 200 OK\n",
            "Length: 7612452 (7.3M) [application/gzip]\n",
            "Saving to: ‘physionet.org/files/mimiciii/1.4/MICROBIOLOGYEVENTS.csv.gz’\n",
            "\n",
            "physionet.org/files 100%[===================>]   7.26M  1.91MB/s    in 4.0s    \n",
            "\n",
            "2021-04-29 15:00:59 (1.83 MB/s) - ‘physionet.org/files/mimiciii/1.4/MICROBIOLOGYEVENTS.csv.gz’ saved [7612452/7612452]\n",
            "\n",
            "FINISHED --2021-04-29 15:00:59--\n",
            "Total wall clock time: 9.7s\n",
            "Downloaded: 1 files, 7.3M in 4.0s (1.83 MB/s)\n",
            "Password for user ‘zl277@duke.edu’: \n",
            "--2021-04-29 15:01:05--  https://physionet.org/files/mimiciii/1.4/PROCEDUREEVENTS_MV.csv.gz\n",
            "Resolving physionet.org (physionet.org)... 18.18.42.54\n",
            "Connecting to physionet.org (physionet.org)|18.18.42.54|:443... connected.\n",
            "HTTP request sent, awaiting response... 401 Unauthorized\n",
            "Authentication selected: Basic realm=\"PhysioNet\", charset=\"UTF-8\"\n",
            "Reusing existing connection to physionet.org:443.\n",
            "HTTP request sent, awaiting response... 200 OK\n",
            "Length: 7814321 (7.5M) [application/gzip]\n",
            "Saving to: ‘physionet.org/files/mimiciii/1.4/PROCEDUREEVENTS_MV.csv.gz’\n",
            "\n",
            "physionet.org/files 100%[===================>]   7.45M  2.06MB/s    in 3.6s    \n",
            "\n",
            "2021-04-29 15:01:10 (2.06 MB/s) - ‘physionet.org/files/mimiciii/1.4/PROCEDUREEVENTS_MV.csv.gz’ saved [7814321/7814321]\n",
            "\n",
            "FINISHED --2021-04-29 15:01:10--\n",
            "Total wall clock time: 11s\n",
            "Downloaded: 1 files, 7.5M in 3.6s (2.06 MB/s)\n",
            "Password for user ‘zl277@duke.edu’: \n",
            "--2021-04-29 15:01:17--  https://physionet.org/files/mimiciii/1.4/CPTEVENTS.csv.gz\n",
            "Resolving physionet.org (physionet.org)... 18.18.42.54\n",
            "Connecting to physionet.org (physionet.org)|18.18.42.54|:443... connected.\n",
            "HTTP request sent, awaiting response... 401 Unauthorized\n",
            "Authentication selected: Basic realm=\"PhysioNet\", charset=\"UTF-8\"\n",
            "Reusing existing connection to physionet.org:443.\n",
            "HTTP request sent, awaiting response... 200 OK\n",
            "Length: 4971247 (4.7M) [application/gzip]\n",
            "Saving to: ‘physionet.org/files/mimiciii/1.4/CPTEVENTS.csv.gz’\n",
            "\n",
            "physionet.org/files 100%[===================>]   4.74M  1.79MB/s    in 2.7s    \n",
            "\n",
            "2021-04-29 15:01:20 (1.79 MB/s) - ‘physionet.org/files/mimiciii/1.4/CPTEVENTS.csv.gz’ saved [4971247/4971247]\n",
            "\n",
            "FINISHED --2021-04-29 15:01:20--\n",
            "Total wall clock time: 11s\n",
            "Downloaded: 1 files, 4.7M in 2.7s (1.79 MB/s)\n",
            "Password for user ‘zl277@duke.edu’: \n",
            "--2021-04-29 15:01:28--  https://physionet.org/files/mimiciii/1.4/DATETIMEEVENTS.csv.gz\n",
            "Resolving physionet.org (physionet.org)... 18.18.42.54\n",
            "Connecting to physionet.org (physionet.org)|18.18.42.54|:443... connected.\n",
            "HTTP request sent, awaiting response... 401 Unauthorized\n",
            "Authentication selected: Basic realm=\"PhysioNet\", charset=\"UTF-8\"\n",
            "Reusing existing connection to physionet.org:443.\n",
            "HTTP request sent, awaiting response... 200 OK\n",
            "Length: 55042057 (52M) [application/gzip]\n",
            "Saving to: ‘physionet.org/files/mimiciii/1.4/DATETIMEEVENTS.csv.gz’\n",
            "\n",
            "physionet.org/files 100%[===================>]  52.49M  4.35MB/s    in 29s     \n",
            "\n",
            "2021-04-29 15:01:59 (1.83 MB/s) - ‘physionet.org/files/mimiciii/1.4/DATETIMEEVENTS.csv.gz’ saved [55042057/55042057]\n",
            "\n",
            "FINISHED --2021-04-29 15:01:59--\n",
            "Total wall clock time: 38s\n",
            "Downloaded: 1 files, 52M in 29s (1.83 MB/s)\n",
            "Password for user ‘zl277@duke.edu’: \n",
            "--2021-04-29 15:02:11--  https://physionet.org/files/mimiciii/1.4/LABEVENTS.csv.gz\n",
            "Resolving physionet.org (physionet.org)... 18.18.42.54\n",
            "Connecting to physionet.org (physionet.org)|18.18.42.54|:443... connected.\n",
            "HTTP request sent, awaiting response... 401 Unauthorized\n",
            "Authentication selected: Basic realm=\"PhysioNet\", charset=\"UTF-8\"\n",
            "Reusing existing connection to physionet.org:443.\n",
            "HTTP request sent, awaiting response... 200 OK\n",
            "Length: 335843735 (320M) [application/gzip]\n",
            "Saving to: ‘physionet.org/files/mimiciii/1.4/LABEVENTS.csv.gz’\n",
            "\n",
            "physionet.org/files 100%[===================>] 320.29M  1.42MB/s    in 4m 26s  \n",
            "\n",
            "2021-04-29 15:06:38 (1.20 MB/s) - ‘physionet.org/files/mimiciii/1.4/LABEVENTS.csv.gz’ saved [335843735/335843735]\n",
            "\n",
            "FINISHED --2021-04-29 15:06:38--\n",
            "Total wall clock time: 4m 40s\n",
            "Downloaded: 1 files, 320M in 4m 26s (1.20 MB/s)\n",
            "Password for user ‘zl277@duke.edu’: \n",
            "--2021-04-29 15:06:46--  https://physionet.org/files/mimiciii/1.4/NOTEEVENTS.csv.gz\n",
            "Resolving physionet.org (physionet.org)... 18.18.42.54\n",
            "Connecting to physionet.org (physionet.org)|18.18.42.54|:443... connected.\n",
            "HTTP request sent, awaiting response... 401 Unauthorized\n",
            "Authentication selected: Basic realm=\"PhysioNet\", charset=\"UTF-8\"\n",
            "Reusing existing connection to physionet.org:443.\n",
            "HTTP request sent, awaiting response... 200 OK\n",
            "Length: 1165661335 (1.1G) [application/gzip]\n",
            "Saving to: ‘physionet.org/files/mimiciii/1.4/NOTEEVENTS.csv.gz’\n",
            "\n",
            "physionet.org/files 100%[===================>]   1.08G   938KB/s    in 18m 17s \n",
            "\n",
            "2021-04-29 15:25:04 (1.01 MB/s) - ‘physionet.org/files/mimiciii/1.4/NOTEEVENTS.csv.gz’ saved [1165661335/1165661335]\n",
            "\n",
            "FINISHED --2021-04-29 15:25:04--\n",
            "Total wall clock time: 18m 26s\n",
            "Downloaded: 1 files, 1.1G in 18m 17s (1.01 MB/s)\n",
            "Password for user ‘zl277@duke.edu’: \n",
            "--2021-04-29 15:40:10--  https://physionet.org/files/mimiciii/1.4/OUTPUTEVENTS.csv.gz\n",
            "Resolving physionet.org (physionet.org)... 18.18.42.54\n",
            "Connecting to physionet.org (physionet.org)|18.18.42.54|:443... connected.\n",
            "HTTP request sent, awaiting response... 401 Unauthorized\n",
            "Authentication selected: Basic realm=\"PhysioNet\", charset=\"UTF-8\"\n",
            "Reusing existing connection to physionet.org:443.\n",
            "HTTP request sent, awaiting response... 200 OK\n",
            "Length: 58436520 (56M) [application/gzip]\n",
            "Saving to: ‘physionet.org/files/mimiciii/1.4/OUTPUTEVENTS.csv.gz’\n",
            "\n",
            "physionet.org/files 100%[===================>]  55.73M  1.74MB/s    in 33s     \n",
            "\n",
            "2021-04-29 15:40:44 (1.70 MB/s) - ‘physionet.org/files/mimiciii/1.4/OUTPUTEVENTS.csv.gz’ saved [58436520/58436520]\n",
            "\n",
            "FINISHED --2021-04-29 15:40:44--\n",
            "Total wall clock time: 15m 40s\n",
            "Downloaded: 1 files, 56M in 33s (1.70 MB/s)\n",
            "Password for user ‘zl277@duke.edu’: \n",
            "--2021-04-29 15:40:52--  https://physionet.org/files/mimiciii/1.4/PRESCRIPTIONS.csv.gz\n",
            "Resolving physionet.org (physionet.org)... 18.18.42.54\n",
            "Connecting to physionet.org (physionet.org)|18.18.42.54|:443... connected.\n",
            "HTTP request sent, awaiting response... 401 Unauthorized\n",
            "Authentication selected: Basic realm=\"PhysioNet\", charset=\"UTF-8\"\n",
            "Reusing existing connection to physionet.org:443.\n",
            "HTTP request sent, awaiting response... 200 OK\n",
            "Length: 103492087 (99M) [application/gzip]\n",
            "Saving to: ‘physionet.org/files/mimiciii/1.4/PRESCRIPTIONS.csv.gz’\n",
            "\n",
            "physionet.org/files 100%[===================>]  98.70M  2.93MB/s    in 77s     \n",
            "\n",
            "2021-04-29 15:42:10 (1.28 MB/s) - ‘physionet.org/files/mimiciii/1.4/PRESCRIPTIONS.csv.gz’ saved [103492087/103492087]\n",
            "\n",
            "FINISHED --2021-04-29 15:42:10--\n",
            "Total wall clock time: 1m 26s\n",
            "Downloaded: 1 files, 99M in 1m 17s (1.28 MB/s)\n",
            "Password for user ‘zl277@duke.edu’: \n",
            "--2021-04-29 15:42:28--  https://physionet.org/files/mimiciii/1.4/ICUSTAYS.csv.gz\n",
            "Resolving physionet.org (physionet.org)... 18.18.42.54\n",
            "Connecting to physionet.org (physionet.org)|18.18.42.54|:443... connected.\n",
            "HTTP request sent, awaiting response... 401 Unauthorized\n",
            "Authentication selected: Basic realm=\"PhysioNet\", charset=\"UTF-8\"\n",
            "Reusing existing connection to physionet.org:443.\n",
            "HTTP request sent, awaiting response... 200 OK\n",
            "Length: 1990193 (1.9M) [application/gzip]\n",
            "Saving to: ‘physionet.org/files/mimiciii/1.4/ICUSTAYS.csv.gz’\n",
            "\n",
            "physionet.org/files 100%[===================>]   1.90M  1.41MB/s    in 1.4s    \n",
            "\n",
            "2021-04-29 15:42:31 (1.41 MB/s) - ‘physionet.org/files/mimiciii/1.4/ICUSTAYS.csv.gz’ saved [1990193/1990193]\n",
            "\n",
            "FINISHED --2021-04-29 15:42:31--\n",
            "Total wall clock time: 20s\n",
            "Downloaded: 1 files, 1.9M in 1.4s (1.41 MB/s)\n"
          ],
          "name": "stdout"
        }
      ]
    },
    {
      "cell_type": "markdown",
      "metadata": {
        "id": "HdNRnzosboLD"
      },
      "source": [
        "## Exploratory Data Analysis"
      ]
    },
    {
      "cell_type": "code",
      "metadata": {
        "id": "K5s5xf3GXDsc",
        "colab": {
          "base_uri": "https://localhost:8080/"
        },
        "outputId": "9f388f9d-dd54-4c0b-f91f-8eda0b12fb21"
      },
      "source": [
        "# Import libraries\n",
        "import numpy as np\n",
        "import pandas as pd\n",
        "import psycopg2\n",
        "import matplotlib.pyplot as plt\n",
        "import seaborn as sns\n",
        "\n",
        "import sys\n",
        "import torch\n",
        "from torch import nn\n",
        "from google.colab import files\n",
        "from sklearn.metrics import roc_auc_score, roc_curve, mean_squared_error\n",
        "from sklearn.tree import DecisionTreeClassifier, DecisionTreeRegressor, plot_tree\n",
        "from sklearn.model_selection import train_test_split\n",
        "\n",
        "from sklearn import model_selection\n",
        "from sklearn.linear_model import LogisticRegression\n",
        "from sklearn.tree import DecisionTreeClassifier\n",
        "from sklearn.ensemble import RandomForestClassifier\n",
        "from sklearn.neighbors import KNeighborsClassifier\n",
        "from sklearn.ensemble import GradientBoostingClassifier\n",
        "from sklearn.discriminant_analysis import LinearDiscriminantAnalysis\n",
        "from sklearn.naive_bayes import GaussianNB\n",
        "\n",
        "from sklearn.preprocessing import StandardScaler\n",
        "from sklearn.model_selection import GridSearchCV, KFold\n",
        "\n",
        "from sklearn.metrics import confusion_matrix\n",
        "from sklearn.metrics import plot_confusion_matrix\n",
        "\n",
        "%matplotlib inline"
      ],
      "execution_count": null,
      "outputs": [
        {
          "output_type": "stream",
          "text": [
            "/usr/local/lib/python3.7/dist-packages/psycopg2/__init__.py:144: UserWarning: The psycopg2 wheel package will be renamed from release 2.8; in order to keep installing from binary please use \"pip install psycopg2-binary\" instead. For details see: <http://initd.org/psycopg/docs/install.html#binary-install-from-pypi>.\n",
            "  \"\"\")\n"
          ],
          "name": "stderr"
        }
      ]
    },
    {
      "cell_type": "code",
      "metadata": {
        "id": "xO7Tq3tLXMfT",
        "colab": {
          "base_uri": "https://localhost:8080/"
        },
        "outputId": "59f72283-8861-455d-c12e-f20348007fc2"
      },
      "source": [
        "# Read data from csv files and import into dataframes\n",
        "admissions_df = pd.read_csv('/content/physionet.org/files/mimiciii/1.4/ADMISSIONS.csv.gz')\n",
        "diagnosis_df = pd.read_csv('/content/physionet.org/files/mimiciii/1.4/DIAGNOSES_ICD.csv.gz')\n",
        "patient_df = pd.read_csv('/content/physionet.org/files/mimiciii/1.4/PATIENTS.csv.gz')\n",
        "code_df = pd.read_csv('/content/physionet.org/files/mimiciii/1.4/D_ICD_DIAGNOSES.csv.gz')\n",
        "microbio_df = pd.read_csv('/content/physionet.org/files/mimiciii/1.4/MICROBIOLOGYEVENTS.csv.gz')\n",
        "item_df = pd.read_csv('/content/physionet.org/files/mimiciii/1.4/D_ITEMS.csv.gz')\n",
        "procedureevents_df = pd.read_csv('/content/physionet.org/files/mimiciii/1.4/PROCEDUREEVENTS_MV.csv.gz')\n",
        "CPT_df = pd.read_csv('/content/physionet.org/files/mimiciii/1.4/CPTEVENTS.csv.gz')\n",
        "daytime_df = pd.read_csv('/content/physionet.org/files/mimiciii/1.4/DATETIMEEVENTS.csv.gz')\n",
        "labevents_df = pd.read_csv('/content/physionet.org/files/mimiciii/1.4/LABEVENTS.csv.gz')\n",
        "noteevents_df = pd.read_csv('/content/physionet.org/files/mimiciii/1.4/NOTEEVENTS.csv.gz')\n",
        "outputevents_df = pd.read_csv('/content/physionet.org/files/mimiciii/1.4/OUTPUTEVENTS.csv.gz')\n",
        "prescriptions_df = pd.read_csv('/content/physionet.org/files/mimiciii/1.4/PRESCRIPTIONS.csv.gz')\n",
        "ICU_df = pd.read_csv('/content/physionet.org/files/mimiciii/1.4/ICUSTAYS.csv.gz')"
      ],
      "execution_count": null,
      "outputs": [
        {
          "output_type": "stream",
          "text": [
            "/usr/local/lib/python3.7/dist-packages/IPython/core/interactiveshell.py:2718: DtypeWarning: Columns (4,5,7,11) have mixed types.Specify dtype option on import or set low_memory=False.\n",
            "  interactivity=interactivity, compiler=compiler, result=result)\n",
            "/usr/local/lib/python3.7/dist-packages/IPython/core/interactiveshell.py:2718: DtypeWarning: Columns (13) have mixed types.Specify dtype option on import or set low_memory=False.\n",
            "  interactivity=interactivity, compiler=compiler, result=result)\n",
            "/usr/local/lib/python3.7/dist-packages/IPython/core/interactiveshell.py:2718: DtypeWarning: Columns (4,5) have mixed types.Specify dtype option on import or set low_memory=False.\n",
            "  interactivity=interactivity, compiler=compiler, result=result)\n",
            "/usr/local/lib/python3.7/dist-packages/IPython/core/interactiveshell.py:2718: DtypeWarning: Columns (11) have mixed types.Specify dtype option on import or set low_memory=False.\n",
            "  interactivity=interactivity, compiler=compiler, result=result)\n"
          ],
          "name": "stderr"
        }
      ]
    },
    {
      "cell_type": "markdown",
      "metadata": {
        "id": "H8Pl5iEq46hG"
      },
      "source": [
        "To better understand the MIMIC-III database, we performed a series of exploratory data analysis to preliminarily determine features that are important for 1 year mortality. To start with, we assumed that the time a certain patient spent in hospital is inversely proportional to 1 year mortality. We first divided admission encounters into two groups: (1) encounters that died within 1 year after admission, and (2) encounters that survived 1 year after admission. For both groups, the number of counts decrease as the length of stay in hospital increase (Fig. 1). Therefore, our assumption was proved reasonable."
      ]
    },
    {
      "cell_type": "code",
      "metadata": {
        "id": "yGWPm4W578P3"
      },
      "source": [
        "# Merge dataframes and calculate 1-yr-mortality from datasets\n",
        "mortality = pd.merge(admissions_df, patient_df, how='left', on='SUBJECT_ID')\n",
        "mortality[['ADMITTIME','DOD']] = mortality[['ADMITTIME','DOD']].apply(pd.to_datetime)\n",
        "mortality['1_yr_mortality'] = ((mortality['DOD'] - mortality['ADMITTIME']).dt.days<365)*1\n",
        "admissions_df['1_yr_mortality'] = mortality['1_yr_mortality']"
      ],
      "execution_count": null,
      "outputs": []
    },
    {
      "cell_type": "code",
      "metadata": {
        "id": "nGFzBCaLvupK"
      },
      "source": [
        "admissions_df[['ADMITTIME','DISCHTIME']] = admissions_df[['ADMITTIME','DISCHTIME']].apply(pd.to_datetime)\n",
        "admissions_df['length_of_stay'] = (admissions_df['DISCHTIME'] - admissions_df['ADMITTIME']).dt.days\n",
        "admissions_df[['ADMITTIME','DEATHTIME']] = admissions_df[['ADMITTIME','DEATHTIME']].apply(pd.to_datetime)\n",
        "subset_1_yr_mortality = admissions_df.loc[(admissions_df['1_yr_mortality'] == 1)]\n",
        "subset_na_mortality = admissions_df.loc[(admissions_df['1_yr_mortality'] == 0)]\n"
      ],
      "execution_count": null,
      "outputs": []
    },
    {
      "cell_type": "code",
      "metadata": {
        "colab": {
          "base_uri": "https://localhost:8080/",
          "height": 423
        },
        "id": "_EoVv-SKL9Qe",
        "outputId": "77b619a7-beef-4ce8-a1dc-316e66b505ed"
      },
      "source": [
        "# Figure 1: Explore relationship between length of stay and number of encounters\n",
        "plt.figure(1)\n",
        "plt.figure(figsize=(8,6))\n",
        "\n",
        "plt.hist(subset_na_mortality['length_of_stay'].values, bins=40, alpha=0.3)\n",
        "plt.hist(subset_1_yr_mortality['length_of_stay'].values, bins=40, alpha=0.5)\n",
        "\n",
        "plt.xlabel('length_of_stay')\n",
        "plt.ylabel('number_of_encounters')"
      ],
      "execution_count": null,
      "outputs": [
        {
          "output_type": "execute_result",
          "data": {
            "text/plain": [
              "Text(0, 0.5, 'number_of_encounters')"
            ]
          },
          "metadata": {
            "tags": []
          },
          "execution_count": 6
        },
        {
          "output_type": "display_data",
          "data": {
            "text/plain": [
              "<Figure size 432x288 with 0 Axes>"
            ]
          },
          "metadata": {
            "tags": []
          }
        },
        {
          "output_type": "display_data",
          "data": {
            "image/png": "[encoded data removed]",
            "text/plain": [
              "<Figure size 576x432 with 1 Axes>"
            ]
          },
          "metadata": {
            "tags": [],
            "needs_background": "light"
          }
        }
      ]
    },
    {
      "cell_type": "markdown",
      "metadata": {
        "id": "Cc53Dp5Q9OYY"
      },
      "source": [
        "Figure 1.  A histogram showing the number of encounters that died within 1 year after admission (orange) and that survived 1 year after admission (blue) over different ranges of time spent in hospital."
      ]
    },
    {
      "cell_type": "markdown",
      "metadata": {
        "id": "4CORvrbB_WTp"
      },
      "source": [
        "Next, we explored the distribution of 1 year mortality over different types of admissions. For both groups, most admission encounters are emergency, followed by elective and urgent. Notably, a large proportion of encounters with 1 year survival are newborn admission, whereas almost no 1 year mortality is associated with newborn admission (Fig. 2). Given the different pattern of distribution, we anticipated that admission type is an important feature that we might want to take into account."
      ]
    },
    {
      "cell_type": "code",
      "metadata": {
        "colab": {
          "base_uri": "https://localhost:8080/",
          "height": 423
        },
        "id": "c92zgksqM3pK",
        "outputId": "09aa88a8-4cbc-47de-d6fa-8c2b06adc136"
      },
      "source": [
        "# Figure 1: Explore relationship between number of encounters and admission types\n",
        "plt.figure(2)\n",
        "plt.figure(figsize=(8,6))\n",
        "\n",
        "plt.hist(subset_na_mortality['ADMISSION_TYPE'].values, bins=4, alpha=0.3)\n",
        "plt.hist(subset_1_yr_mortality['ADMISSION_TYPE'].values, bins=4, alpha=0.5)\n",
        "\n",
        "plt.xlabel('ADMISSION_TYPE')\n",
        "plt.ylabel('number_of_encounters')"
      ],
      "execution_count": null,
      "outputs": [
        {
          "output_type": "execute_result",
          "data": {
            "text/plain": [
              "Text(0, 0.5, 'number_of_encounters')"
            ]
          },
          "metadata": {
            "tags": []
          },
          "execution_count": 7
        },
        {
          "output_type": "display_data",
          "data": {
            "text/plain": [
              "<Figure size 432x288 with 0 Axes>"
            ]
          },
          "metadata": {
            "tags": []
          }
        },
        {
          "output_type": "display_data",
          "data": {
            "image/png": "[encoded data removed]",
            "text/plain": [
              "<Figure size 576x432 with 1 Axes>"
            ]
          },
          "metadata": {
            "tags": [],
            "needs_background": "light"
          }
        }
      ]
    },
    {
      "cell_type": "markdown",
      "metadata": {
        "id": "_XcCDmzLAjnr"
      },
      "source": [
        "Figure 2. A histogram showing the number of encounters that died within 1 year after admission (orange) and that survived 1 year after admission (blue) over different types of admission."
      ]
    },
    {
      "cell_type": "markdown",
      "metadata": {
        "id": "xZxw1X5FBWOh"
      },
      "source": [
        "Then, we explored the distribution of 1 year mortality over different ranges of number of diagnosis. Notably, the histogram shape of 1 year mortality and 1 year survival is very similar (Fig. 3a). In this case, we assumed that the number of diagnosis of certain encounters might not be an important feature. To preliminarily prove this assumption, we plotted the time spent in hospital versus number of diagnosis and plotted a linear regression line, using the 1 year mortality group (Fig. 3b). Consistent with our assumption, the scatter plot shows a very poor linear relationship."
      ]
    },
    {
      "cell_type": "code",
      "metadata": {
        "colab": {
          "base_uri": "https://localhost:8080/",
          "height": 406
        },
        "id": "6HNuidhZNRS7",
        "outputId": "bd3ac619-138d-44ec-c778-3b40df8d1863"
      },
      "source": [
        "# Figure 3: Exploratory Data Analysis between number of encounters, length of stay and number of diagnosis\n",
        "num_diagnosis = diagnosis_df['HADM_ID'].value_counts().rename_axis('HADM_ID').reset_index(name='num_diagnosis')\n",
        "subset_na_mortality = pd.merge(subset_na_mortality, num_diagnosis, how='inner', on='HADM_ID')\n",
        "subset_1_yr_mortality = pd.merge(subset_1_yr_mortality, num_diagnosis, how='inner', on='HADM_ID')\n",
        "plt.figure(3)\n",
        "plt.figure(figsize=(18,6))\n",
        "\n",
        "# Subplot 1\n",
        "plt.subplot(121)\n",
        "plt.hist(subset_na_mortality['num_diagnosis'].values, bins=20, alpha=0.3)\n",
        "plt.hist(subset_1_yr_mortality['num_diagnosis'].values, bins=20, alpha=0.5)\n",
        "plt.xlabel('num_diagnosis')\n",
        "plt.ylabel('number_of_encounters')\n",
        "\n",
        "# Subplot 2\n",
        "plt.subplot(122)\n",
        "sns.scatterplot(x = 'num_diagnosis', y = 'length_of_stay', data = subset_1_yr_mortality)\n",
        "x=subset_1_yr_mortality['num_diagnosis'].values\n",
        "y=subset_1_yr_mortality['length_of_stay'].values\n",
        "m, b = np.polyfit(x, y, 1)\n",
        "\n",
        "# Add linear regression line to scatterplot\n",
        "plt.plot(x, m*x+b)\n",
        "plt.xlabel('num_diagnosis')\n",
        "plt.ylabel('length_of_stay')"
      ],
      "execution_count": null,
      "outputs": [
        {
          "output_type": "execute_result",
          "data": {
            "text/plain": [
              "Text(0, 0.5, 'length_of_stay')"
            ]
          },
          "metadata": {
            "tags": []
          },
          "execution_count": 8
        },
        {
          "output_type": "display_data",
          "data": {
            "text/plain": [
              "<Figure size 432x288 with 0 Axes>"
            ]
          },
          "metadata": {
            "tags": []
          }
        },
        {
          "output_type": "display_data",
          "data": {
            "image/png": "[encoded data removed]",
            "text/plain": [
              "<Figure size 1296x432 with 2 Axes>"
            ]
          },
          "metadata": {
            "tags": [],
            "needs_background": "light"
          }
        }
      ]
    },
    {
      "cell_type": "markdown",
      "metadata": {
        "id": "IaT38G1gAx5v"
      },
      "source": [
        "Figure 3. (a) A histogram showing the number of encounters that died within 1 year after admission (orange) and that survived 1 year after admission (blue) over different ranges of number of diagnosis. (b) A scatter plot of time spent in hospital versus number of diagnosis"
      ]
    },
    {
      "cell_type": "markdown",
      "metadata": {
        "id": "rq3Iugb4CwVI"
      },
      "source": [
        "Based on the same logic, we further looked into the number of prescription, labevents and the time spent in ICU as features of 1 year mortality prediction model. We found that the number of prescription and labevents are linearly related to the time spent in hospital, meaning that they are important features (Fig. 4 and 5). Surprisingly, the time spent in ICU shows a poor linear relationship with time spent in hospital (Fig. 6)."
      ]
    },
    {
      "cell_type": "code",
      "metadata": {
        "colab": {
          "base_uri": "https://localhost:8080/",
          "height": 404
        },
        "id": "4X4Zis8PFoq_",
        "outputId": "a66f6a3c-4c61-46d6-d02b-beff43cc4f16"
      },
      "source": [
        "# Figure 4: Exploratory Data Analysis between number of encounters, length of stay and number of prescription\n",
        "num_prescription = prescriptions_df['HADM_ID'].value_counts().rename_axis('HADM_ID').reset_index(name='num_prescription')\n",
        "subset_na_mortality = pd.merge(subset_na_mortality, num_prescription, how='inner', on='HADM_ID')\n",
        "subset_1_yr_mortality = pd.merge(subset_1_yr_mortality, num_prescription, how='inner', on='HADM_ID')\n",
        "plt.figure(4)\n",
        "plt.figure(figsize=(18,6))\n",
        "\n",
        "# Subplot 1\n",
        "plt.subplot(121)\n",
        "plt.hist(subset_na_mortality['num_prescription'].values, bins=20, alpha=0.3)\n",
        "plt.hist(subset_1_yr_mortality['num_prescription'].values, bins=20, alpha=0.5)\n",
        "plt.xlabel('num_prescription')\n",
        "plt.ylabel('number_of_encounters')\n",
        "\n",
        "# Subplot 2\n",
        "plt.subplot(122)\n",
        "sns.scatterplot(x = 'num_prescription', y = 'length_of_stay', data = subset_1_yr_mortality)\n",
        "x=subset_1_yr_mortality['num_prescription'].values\n",
        "y=subset_1_yr_mortality['length_of_stay'].values\n",
        "m, b = np.polyfit(x, y, 1)\n",
        "\n",
        "# Add linear regression line to scatterplot\n",
        "plt.plot(x, m*x+b)\n",
        "plt.xlabel('num_prescription')\n",
        "plt.ylabel('length_of_stay')"
      ],
      "execution_count": null,
      "outputs": [
        {
          "output_type": "execute_result",
          "data": {
            "text/plain": [
              "Text(0, 0.5, 'length_of_stay')"
            ]
          },
          "metadata": {
            "tags": []
          },
          "execution_count": 9
        },
        {
          "output_type": "display_data",
          "data": {
            "text/plain": [
              "<Figure size 432x288 with 0 Axes>"
            ]
          },
          "metadata": {
            "tags": []
          }
        },
        {
          "output_type": "display_data",
          "data": {
            "image/png": "[encoded data removed]",
            "text/plain": [
              "<Figure size 1296x432 with 2 Axes>"
            ]
          },
          "metadata": {
            "tags": [],
            "needs_background": "light"
          }
        }
      ]
    },
    {
      "cell_type": "markdown",
      "metadata": {
        "id": "c9ZjxcpPWSvu"
      },
      "source": [
        "Figure 4. (a) A histogram showing the number of encounters that died within 1 year after admission (orange) and that survived 1 year after admission (blue) over different ranges of number of prescription. (b) A scatter plot of time spent in hospital versus number of prescription."
      ]
    },
    {
      "cell_type": "code",
      "metadata": {
        "colab": {
          "base_uri": "https://localhost:8080/",
          "height": 404
        },
        "id": "_YsA_QyFQzSe",
        "outputId": "125493d8-569a-42e9-975f-8936ccb98bab"
      },
      "source": [
        "# Figure 5: Exploratory Data Analysis between number of encounters, length of stay and number of labevent\n",
        "num_labevent = labevents_df['HADM_ID'].value_counts().rename_axis('HADM_ID').reset_index(name='num_labevent')\n",
        "subset_na_mortality = pd.merge(subset_na_mortality, num_labevent, how='inner', on='HADM_ID')\n",
        "subset_1_yr_mortality = pd.merge(subset_1_yr_mortality, num_labevent, how='inner', on='HADM_ID')\n",
        "plt.figure(4)\n",
        "plt.figure(figsize=(18,6))\n",
        "\n",
        "# Subplot 1\n",
        "plt.subplot(121)\n",
        "plt.hist(subset_na_mortality['num_labevent'].values, bins=20, alpha=0.3)\n",
        "plt.hist(subset_1_yr_mortality['num_labevent'].values, bins=20, alpha=0.5)\n",
        "plt.xlabel('num_labevent')\n",
        "plt.ylabel('number_of_encounters')\n",
        "\n",
        "# Subplot 2\n",
        "plt.subplot(122)\n",
        "sns.scatterplot(x = 'num_labevent', y = 'length_of_stay', data = subset_1_yr_mortality)\n",
        "x=subset_1_yr_mortality['num_labevent'].values\n",
        "y=subset_1_yr_mortality['length_of_stay'].values\n",
        "m, b = np.polyfit(x, y, 1)\n",
        "\n",
        "# Add linear regression line to scatterplot\n",
        "plt.plot(x, m*x+b)\n",
        "plt.xlabel('num_labevent')\n",
        "plt.ylabel('length_of_stay')"
      ],
      "execution_count": null,
      "outputs": [
        {
          "output_type": "execute_result",
          "data": {
            "text/plain": [
              "Text(0, 0.5, 'length_of_stay')"
            ]
          },
          "metadata": {
            "tags": []
          },
          "execution_count": 10
        },
        {
          "output_type": "display_data",
          "data": {
            "text/plain": [
              "<Figure size 432x288 with 0 Axes>"
            ]
          },
          "metadata": {
            "tags": []
          }
        },
        {
          "output_type": "display_data",
          "data": {
            "image/png": "[encoded data removed]",
            "text/plain": [
              "<Figure size 1296x432 with 2 Axes>"
            ]
          },
          "metadata": {
            "tags": [],
            "needs_background": "light"
          }
        }
      ]
    },
    {
      "cell_type": "markdown",
      "metadata": {
        "id": "_snMFLzYWcpu"
      },
      "source": [
        "Figure 5. (a) A histogram showing the number of encounters that died within 1 year after admission (orange) and that survived 1 year after admission (blue) over different ranges of number of labevents. (b) A scatter plot of time spent in hospital versus number of labevents."
      ]
    },
    {
      "cell_type": "code",
      "metadata": {
        "colab": {
          "base_uri": "https://localhost:8080/",
          "height": 404
        },
        "id": "Mnxm7EGbRLaA",
        "outputId": "9837b955-7960-4d78-a4d0-21e76d29398f"
      },
      "source": [
        "# Figure 6: Exploratory Data Analysis between number of encounters, length of stay and ICU stays\n",
        "ICU_stay = ICU_df['HADM_ID'].value_counts().rename_axis('HADM_ID').reset_index(name='ICU_stay')\n",
        "subset_na_mortality = pd.merge(subset_na_mortality, ICU_stay, how='inner', on='HADM_ID')\n",
        "subset_1_yr_mortality = pd.merge(subset_1_yr_mortality, ICU_stay, how='inner', on='HADM_ID')\n",
        "plt.figure(4)\n",
        "plt.figure(figsize=(18,6))\n",
        "\n",
        "# Subplot 1\n",
        "plt.subplot(121)\n",
        "plt.hist(subset_na_mortality['ICU_stay'].values, bins=7, alpha=0.3)\n",
        "plt.hist(subset_1_yr_mortality['ICU_stay'].values, bins=7, alpha=0.5)\n",
        "plt.xlabel('ICU_stay')\n",
        "plt.ylabel('number_of_encounters')\n",
        "\n",
        "# Subplot 2\n",
        "plt.subplot(122)\n",
        "sns.scatterplot(x = 'ICU_stay', y = 'length_of_stay', data = subset_1_yr_mortality)\n",
        "x=subset_1_yr_mortality['ICU_stay'].values\n",
        "y=subset_1_yr_mortality['length_of_stay'].values\n",
        "m, b = np.polyfit(x, y, 1)\n",
        "\n",
        "# Add linear regression line to scatterplot\n",
        "plt.plot(x, m*x+b)\n",
        "plt.xlabel('ICU_stay')\n",
        "plt.ylabel('length_of_stay')"
      ],
      "execution_count": null,
      "outputs": [
        {
          "output_type": "execute_result",
          "data": {
            "text/plain": [
              "Text(0, 0.5, 'length_of_stay')"
            ]
          },
          "metadata": {
            "tags": []
          },
          "execution_count": 11
        },
        {
          "output_type": "display_data",
          "data": {
            "text/plain": [
              "<Figure size 432x288 with 0 Axes>"
            ]
          },
          "metadata": {
            "tags": []
          }
        },
        {
          "output_type": "display_data",
          "data": {
            "image/png": "[encoded data removed]",
            "text/plain": [
              "<Figure size 1296x432 with 2 Axes>"
            ]
          },
          "metadata": {
            "tags": [],
            "needs_background": "light"
          }
        }
      ]
    },
    {
      "cell_type": "markdown",
      "metadata": {
        "id": "0_IEOjk2WjaD"
      },
      "source": [
        "Figure 6. (a) A histogram showing the number of encounters that died within 1 year after admission (orange) and that survived 1 year after admission (blue) over different ranges of time spent in ICU. (b) A scatter plot of time spent in hospital versus time spent in ICU."
      ]
    },
    {
      "cell_type": "markdown",
      "metadata": {
        "id": "mOXvy-rabyiM"
      },
      "source": [
        "## Modeling"
      ]
    },
    {
      "cell_type": "markdown",
      "metadata": {
        "id": "YTdNqkEdaf3D"
      },
      "source": [
        "### Model Matrix"
      ]
    },
    {
      "cell_type": "code",
      "metadata": {
        "id": "zgVFkRfvaeg1"
      },
      "source": [
        "def get_model_matrix():\n",
        "\n",
        "    \"\"\"\n",
        "    Extract essential features from datasets\n",
        "\n",
        "    Parameters\n",
        "    ----------\n",
        "    None\n",
        "\n",
        "    Returns\n",
        "    -------\n",
        "    model_matrix: pd.dataframe\n",
        "        contains matrix for model training\n",
        "    \"\"\"\n",
        "\n",
        "  mortality = pd.merge(admissions_df, patient_df, how='left', on='SUBJECT_ID')\n",
        "  mortality[['ADMITTIME','DOD']] = mortality[['ADMITTIME','DOD']].apply(pd.to_datetime)\n",
        "  mortality['1_yr_mortality'] = ((mortality['DOD'] - mortality['ADMITTIME']).dt.days<365)*1\n",
        "  mortality = mortality[['HADM_ID','1_yr_mortality']]\n",
        "\n",
        "  admission_type = admissions_df.replace({'ADMISSION_TYPE' : { 'EMERGENCY' : 1, 'ELECTIVE' : 2, 'NEWBORN' : 3, 'URGENT' : 4}})\n",
        "  admission_type = admission_type[['HADM_ID', 'ADMISSION_TYPE']]\n",
        "\n",
        "  gender = pd.merge(admissions_df, patient_df, how='left', on='SUBJECT_ID')\n",
        "  gender = gender.replace({'GENDER' : { 'M' : 1, 'F' : 0}})\n",
        "  gender = gender[['HADM_ID', 'GENDER']]\n",
        "\n",
        "  marital_status = admissions_df.replace({'MARITAL_STATUS' : { 'MARRIED' : 1, 'SINGLE' : 2, 'DIVORCED' : 3, 'WIDOWED' : 4, 'SEPARATED' : 5, 'UNKNOWN (DEFAULT)' : 0, 'LIFE PARTNER' : 6}})\n",
        "  marital_status = marital_status[['HADM_ID', 'MARITAL_STATUS']]\n",
        "\n",
        "  num_procedureevent = procedureevents_df['HADM_ID'].value_counts().rename_axis('HADM_ID').reset_index(name='num_procedureevent')\n",
        "  num_microbioevent = microbio_df['HADM_ID'].value_counts().rename_axis('HADM_ID').reset_index(name='num_microbioevent')\n",
        "  num_diagnosis = diagnosis_df['HADM_ID'].value_counts().rename_axis('HADM_ID').reset_index(name='num_diagnosis')\n",
        "\n",
        "  num_cptevent = CPT_df['HADM_ID'].value_counts().rename_axis('HADM_ID').reset_index(name='num_cptevent')\n",
        "  num_cptevent['HADM_ID'] = num_cptevent['HADM_ID'].astype(int)\n",
        "\n",
        "  num_daytimeevent = daytime_df['HADM_ID'].value_counts().rename_axis('HADM_ID').reset_index(name='num_daytimeevent')\n",
        "  num_daytimeevent['HADM_ID'] = num_daytimeevent['HADM_ID'].astype(int)\n",
        "\n",
        "  num_labevent = labevents_df['HADM_ID'].value_counts().rename_axis('HADM_ID').reset_index(name='num_labevent')\n",
        "  num_labevent['HADM_ID'] = num_labevent['HADM_ID'].astype(int)\n",
        "\n",
        "  num_noteevent = noteevents_df['HADM_ID'].value_counts().rename_axis('HADM_ID').reset_index(name='num_noteevent')\n",
        "  num_noteevent['HADM_ID'] = num_noteevent['HADM_ID'].astype(int)\n",
        "\n",
        "  num_outputevent = outputevents_df['HADM_ID'].value_counts().rename_axis('HADM_ID').reset_index(name='num_outputevent')\n",
        "  num_outputevent['HADM_ID'] = num_outputevent['HADM_ID'].astype(int)\n",
        "\n",
        "  num_prescription = prescriptions_df['HADM_ID'].value_counts().rename_axis('HADM_ID').reset_index(name='num_prescription')\n",
        "\n",
        "  ICU_df[['INTIME','OUTTIME']] = ICU_df[['INTIME','OUTTIME']].apply(pd.to_datetime)\n",
        "  ICU_df['ICU_stay'] = (ICU_df['OUTTIME'] - ICU_df['INTIME']).dt.days\n",
        "  ICU_stay = ICU_df[['HADM_ID','ICU_stay']]\n",
        "  ICU_stay = ICU_stay.groupby('HADM_ID', sort=False).sum().reset_index()\n",
        "\n",
        "  admissions_df[['DISCHTIME','ADMITTIME']] = admissions_df[['DISCHTIME','ADMITTIME']].apply(pd.to_datetime)\n",
        "  admissions_df['hospital_stay'] = (admissions_df['DISCHTIME'] - admissions_df['ADMITTIME']).dt.days\n",
        "  length_of_stay = admissions_df[['HADM_ID','length_of_stay']]\n",
        "\n",
        "  # model merge\n",
        "  model_matrix = pd.merge(mortality, num_diagnosis, how='left', on='HADM_ID')\n",
        "  model_matrix = pd.merge(model_matrix, admission_type, how='left', on='HADM_ID')\n",
        "  model_matrix = pd.merge(model_matrix, gender, how='left', on='HADM_ID')\n",
        "  model_matrix = pd.merge(model_matrix, marital_status, how='left', on='HADM_ID')\n",
        "  model_matrix = pd.merge(model_matrix, ICU_stay, how='left', on='HADM_ID')\n",
        "  model_matrix = pd.merge(model_matrix, length_of_stay, how='left', on='HADM_ID')\n",
        "  model_matrix = pd.merge(model_matrix, num_prescription, how='left', on='HADM_ID')\n",
        "  model_matrix = pd.merge(model_matrix, num_procedureevent, how='left', on='HADM_ID')\n",
        "  model_matrix = pd.merge(model_matrix, num_microbioevent, how='left', on='HADM_ID')\n",
        "  model_matrix = pd.merge(model_matrix, num_cptevent, how='left', on='HADM_ID')\n",
        "  model_matrix = pd.merge(model_matrix, num_daytimeevent, how='left', on='HADM_ID')\n",
        "  model_matrix = pd.merge(model_matrix, num_labevent, how='left', on='HADM_ID')\n",
        "  model_matrix = pd.merge(model_matrix, num_noteevent, how='left', on='HADM_ID')\n",
        "  model_matrix = pd.merge(model_matrix, num_outputevent, how='left', on='HADM_ID')\n",
        "  model_matrix = model_matrix.replace(np.nan, 0)\n",
        "  model_matrix.drop('HADM_ID', inplace=True, axis=1)\n",
        "  cols = list(model_matrix.columns)\n",
        "  cols = cols[1:-1] + [cols[0]]\n",
        "  model_matrix = model_matrix[cols]\n",
        "\n",
        "  return model_matrix"
      ],
      "execution_count": null,
      "outputs": []
    },
    {
      "cell_type": "code",
      "metadata": {
        "colab": {
          "base_uri": "https://localhost:8080/",
          "height": 419
        },
        "id": "Jsm1dWWGc2EX",
        "outputId": "08203bfe-775c-48a6-bff0-4322db5586a3"
      },
      "source": [
        "# Display the matrix\n",
        "model_matrix = get_model_matrix()\n",
        "model_matrix"
      ],
      "execution_count": null,
      "outputs": [
        {
          "output_type": "execute_result",
          "data": {
            "text/html": [
              "<div>\n",
              "<style scoped>\n",
              "    .dataframe tbody tr th:only-of-type {\n",
              "        vertical-align: middle;\n",
              "    }\n",
              "\n",
              "    .dataframe tbody tr th {\n",
              "        vertical-align: top;\n",
              "    }\n",
              "\n",
              "    .dataframe thead th {\n",
              "        text-align: right;\n",
              "    }\n",
              "</style>\n",
              "<table border=\"1\" class=\"dataframe\">\n",
              "  <thead>\n",
              "    <tr style=\"text-align: right;\">\n",
              "      <th></th>\n",
              "      <th>num_diagnosis</th>\n",
              "      <th>ADMISSION_TYPE</th>\n",
              "      <th>GENDER</th>\n",
              "      <th>MARITAL_STATUS</th>\n",
              "      <th>ICU_stay</th>\n",
              "      <th>length_of_stay</th>\n",
              "      <th>num_prescription</th>\n",
              "      <th>num_procedureevent</th>\n",
              "      <th>num_microbioevent</th>\n",
              "      <th>num_cptevent</th>\n",
              "      <th>num_daytimeevent</th>\n",
              "      <th>num_labevent</th>\n",
              "      <th>num_noteevent</th>\n",
              "      <th>1_yr_mortality</th>\n",
              "    </tr>\n",
              "  </thead>\n",
              "  <tbody>\n",
              "    <tr>\n",
              "      <th>0</th>\n",
              "      <td>7</td>\n",
              "      <td>1</td>\n",
              "      <td>0</td>\n",
              "      <td>1.0</td>\n",
              "      <td>1.0</td>\n",
              "      <td>1</td>\n",
              "      <td>0.0</td>\n",
              "      <td>0.0</td>\n",
              "      <td>1.0</td>\n",
              "      <td>0.0</td>\n",
              "      <td>0.0</td>\n",
              "      <td>91.0</td>\n",
              "      <td>10.0</td>\n",
              "      <td>0</td>\n",
              "    </tr>\n",
              "    <tr>\n",
              "      <th>1</th>\n",
              "      <td>8</td>\n",
              "      <td>2</td>\n",
              "      <td>1</td>\n",
              "      <td>1.0</td>\n",
              "      <td>1.0</td>\n",
              "      <td>5</td>\n",
              "      <td>69.0</td>\n",
              "      <td>0.0</td>\n",
              "      <td>1.0</td>\n",
              "      <td>0.0</td>\n",
              "      <td>3.0</td>\n",
              "      <td>208.0</td>\n",
              "      <td>12.0</td>\n",
              "      <td>0</td>\n",
              "    </tr>\n",
              "    <tr>\n",
              "      <th>2</th>\n",
              "      <td>10</td>\n",
              "      <td>1</td>\n",
              "      <td>1</td>\n",
              "      <td>1.0</td>\n",
              "      <td>1.0</td>\n",
              "      <td>6</td>\n",
              "      <td>69.0</td>\n",
              "      <td>4.0</td>\n",
              "      <td>1.0</td>\n",
              "      <td>6.0</td>\n",
              "      <td>15.0</td>\n",
              "      <td>221.0</td>\n",
              "      <td>17.0</td>\n",
              "      <td>0</td>\n",
              "    </tr>\n",
              "    <tr>\n",
              "      <th>3</th>\n",
              "      <td>4</td>\n",
              "      <td>1</td>\n",
              "      <td>1</td>\n",
              "      <td>2.0</td>\n",
              "      <td>0.0</td>\n",
              "      <td>2</td>\n",
              "      <td>26.0</td>\n",
              "      <td>0.0</td>\n",
              "      <td>0.0</td>\n",
              "      <td>4.0</td>\n",
              "      <td>0.0</td>\n",
              "      <td>99.0</td>\n",
              "      <td>5.0</td>\n",
              "      <td>0</td>\n",
              "    </tr>\n",
              "    <tr>\n",
              "      <th>4</th>\n",
              "      <td>4</td>\n",
              "      <td>1</td>\n",
              "      <td>1</td>\n",
              "      <td>1.0</td>\n",
              "      <td>3.0</td>\n",
              "      <td>3</td>\n",
              "      <td>67.0</td>\n",
              "      <td>0.0</td>\n",
              "      <td>2.0</td>\n",
              "      <td>4.0</td>\n",
              "      <td>2.0</td>\n",
              "      <td>315.0</td>\n",
              "      <td>20.0</td>\n",
              "      <td>0</td>\n",
              "    </tr>\n",
              "    <tr>\n",
              "      <th>...</th>\n",
              "      <td>...</td>\n",
              "      <td>...</td>\n",
              "      <td>...</td>\n",
              "      <td>...</td>\n",
              "      <td>...</td>\n",
              "      <td>...</td>\n",
              "      <td>...</td>\n",
              "      <td>...</td>\n",
              "      <td>...</td>\n",
              "      <td>...</td>\n",
              "      <td>...</td>\n",
              "      <td>...</td>\n",
              "      <td>...</td>\n",
              "      <td>...</td>\n",
              "    </tr>\n",
              "    <tr>\n",
              "      <th>58971</th>\n",
              "      <td>8</td>\n",
              "      <td>1</td>\n",
              "      <td>0</td>\n",
              "      <td>2.0</td>\n",
              "      <td>0.0</td>\n",
              "      <td>2</td>\n",
              "      <td>78.0</td>\n",
              "      <td>6.0</td>\n",
              "      <td>1.0</td>\n",
              "      <td>5.0</td>\n",
              "      <td>12.0</td>\n",
              "      <td>140.0</td>\n",
              "      <td>9.0</td>\n",
              "      <td>0</td>\n",
              "    </tr>\n",
              "    <tr>\n",
              "      <th>58972</th>\n",
              "      <td>4</td>\n",
              "      <td>1</td>\n",
              "      <td>0</td>\n",
              "      <td>4.0</td>\n",
              "      <td>0.0</td>\n",
              "      <td>0</td>\n",
              "      <td>8.0</td>\n",
              "      <td>3.0</td>\n",
              "      <td>1.0</td>\n",
              "      <td>0.0</td>\n",
              "      <td>6.0</td>\n",
              "      <td>55.0</td>\n",
              "      <td>1.0</td>\n",
              "      <td>1</td>\n",
              "    </tr>\n",
              "    <tr>\n",
              "      <th>58973</th>\n",
              "      <td>17</td>\n",
              "      <td>2</td>\n",
              "      <td>1</td>\n",
              "      <td>1.0</td>\n",
              "      <td>1.0</td>\n",
              "      <td>8</td>\n",
              "      <td>72.0</td>\n",
              "      <td>9.0</td>\n",
              "      <td>6.0</td>\n",
              "      <td>6.0</td>\n",
              "      <td>53.0</td>\n",
              "      <td>300.0</td>\n",
              "      <td>26.0</td>\n",
              "      <td>0</td>\n",
              "    </tr>\n",
              "    <tr>\n",
              "      <th>58974</th>\n",
              "      <td>9</td>\n",
              "      <td>1</td>\n",
              "      <td>0</td>\n",
              "      <td>1.0</td>\n",
              "      <td>8.0</td>\n",
              "      <td>41</td>\n",
              "      <td>175.0</td>\n",
              "      <td>0.0</td>\n",
              "      <td>24.0</td>\n",
              "      <td>19.0</td>\n",
              "      <td>0.0</td>\n",
              "      <td>523.0</td>\n",
              "      <td>25.0</td>\n",
              "      <td>0</td>\n",
              "    </tr>\n",
              "    <tr>\n",
              "      <th>58975</th>\n",
              "      <td>7</td>\n",
              "      <td>1</td>\n",
              "      <td>0</td>\n",
              "      <td>1.0</td>\n",
              "      <td>1.0</td>\n",
              "      <td>1</td>\n",
              "      <td>18.0</td>\n",
              "      <td>3.0</td>\n",
              "      <td>2.0</td>\n",
              "      <td>2.0</td>\n",
              "      <td>13.0</td>\n",
              "      <td>74.0</td>\n",
              "      <td>4.0</td>\n",
              "      <td>0</td>\n",
              "    </tr>\n",
              "  </tbody>\n",
              "</table>\n",
              "<p>58976 rows × 14 columns</p>\n",
              "</div>"
            ],
            "text/plain": [
              "       num_diagnosis  ADMISSION_TYPE  ...  num_noteevent  1_yr_mortality\n",
              "0                  7               1  ...           10.0               0\n",
              "1                  8               2  ...           12.0               0\n",
              "2                 10               1  ...           17.0               0\n",
              "3                  4               1  ...            5.0               0\n",
              "4                  4               1  ...           20.0               0\n",
              "...              ...             ...  ...            ...             ...\n",
              "58971              8               1  ...            9.0               0\n",
              "58972              4               1  ...            1.0               1\n",
              "58973             17               2  ...           26.0               0\n",
              "58974              9               1  ...           25.0               0\n",
              "58975              7               1  ...            4.0               0\n",
              "\n",
              "[58976 rows x 14 columns]"
            ]
          },
          "metadata": {
            "tags": []
          },
          "execution_count": 17
        }
      ]
    },
    {
      "cell_type": "code",
      "metadata": {
        "colab": {
          "base_uri": "https://localhost:8080/",
          "height": 17
        },
        "id": "-LzJn7orhalC",
        "outputId": "87854bee-6bb4-4ec6-9cde-1142575bf68f"
      },
      "source": [
        "# Save matrix locally\n",
        "model_matrix.to_csv(\"model_matrix.csv\")\n",
        "files.download('model_matrix.csv')"
      ],
      "execution_count": null,
      "outputs": [
        {
          "output_type": "display_data",
          "data": {
            "application/javascript": [
              "\n",
              "    async function download(id, filename, size) {\n",
              "      if (!google.colab.kernel.accessAllowed) {\n",
              "        return;\n",
              "      }\n",
              "      const div = document.createElement('div');\n",
              "      const label = document.createElement('label');\n",
              "      label.textContent = `Downloading \"${filename}\": `;\n",
              "      div.appendChild(label);\n",
              "      const progress = document.createElement('progress');\n",
              "      progress.max = size;\n",
              "      div.appendChild(progress);\n",
              "      document.body.appendChild(div);\n",
              "\n",
              "      const buffers = [];\n",
              "      let downloaded = 0;\n",
              "\n",
              "      const channel = await google.colab.kernel.comms.open(id);\n",
              "      // Send a message to notify the kernel that we're ready.\n",
              "      channel.send({})\n",
              "\n",
              "      for await (const message of channel.messages) {\n",
              "        // Send a message to notify the kernel that we're ready.\n",
              "        channel.send({})\n",
              "        if (message.buffers) {\n",
              "          for (const buffer of message.buffers) {\n",
              "            buffers.push(buffer);\n",
              "            downloaded += buffer.byteLength;\n",
              "            progress.value = downloaded;\n",
              "          }\n",
              "        }\n",
              "      }\n",
              "      const blob = new Blob(buffers, {type: 'application/binary'});\n",
              "      const a = document.createElement('a');\n",
              "      a.href = window.URL.createObjectURL(blob);\n",
              "      a.download = filename;\n",
              "      div.appendChild(a);\n",
              "      a.click();\n",
              "      div.remove();\n",
              "    }\n",
              "  "
            ],
            "text/plain": [
              "<IPython.core.display.Javascript object>"
            ]
          },
          "metadata": {
            "tags": []
          }
        },
        {
          "output_type": "display_data",
          "data": {
            "application/javascript": [
              "download(\"download_08d56fc7-026b-4160-8e7a-c8a18729ecd2\", \"model_matrix.csv\", 3406074)"
            ],
            "text/plain": [
              "<IPython.core.display.Javascript object>"
            ]
          },
          "metadata": {
            "tags": []
          }
        }
      ]
    },
    {
      "cell_type": "code",
      "metadata": {
        "colab": {
          "base_uri": "https://localhost:8080/",
          "height": 419
        },
        "id": "9LIbr25TZ20Z",
        "outputId": "683947db-aa9a-475f-e2df-f4003861ff61"
      },
      "source": [
        "saved_df = pd.read_csv('model_matrix.csv')\n",
        "saved_df.iloc[:,1:None]"
      ],
      "execution_count": null,
      "outputs": [
        {
          "output_type": "execute_result",
          "data": {
            "text/html": [
              "<div>\n",
              "<style scoped>\n",
              "    .dataframe tbody tr th:only-of-type {\n",
              "        vertical-align: middle;\n",
              "    }\n",
              "\n",
              "    .dataframe tbody tr th {\n",
              "        vertical-align: top;\n",
              "    }\n",
              "\n",
              "    .dataframe thead th {\n",
              "        text-align: right;\n",
              "    }\n",
              "</style>\n",
              "<table border=\"1\" class=\"dataframe\">\n",
              "  <thead>\n",
              "    <tr style=\"text-align: right;\">\n",
              "      <th></th>\n",
              "      <th>num_diagnosis</th>\n",
              "      <th>ADMISSION_TYPE</th>\n",
              "      <th>GENDER</th>\n",
              "      <th>MARITAL_STATUS</th>\n",
              "      <th>ICU_stay</th>\n",
              "      <th>length_of_stay</th>\n",
              "      <th>num_prescription</th>\n",
              "      <th>num_procedureevent</th>\n",
              "      <th>num_microbioevent</th>\n",
              "      <th>num_cptevent</th>\n",
              "      <th>num_daytimeevent</th>\n",
              "      <th>num_labevent</th>\n",
              "      <th>num_noteevent</th>\n",
              "      <th>1_yr_mortality</th>\n",
              "    </tr>\n",
              "  </thead>\n",
              "  <tbody>\n",
              "    <tr>\n",
              "      <th>0</th>\n",
              "      <td>7</td>\n",
              "      <td>1</td>\n",
              "      <td>0</td>\n",
              "      <td>1.0</td>\n",
              "      <td>1.0</td>\n",
              "      <td>1</td>\n",
              "      <td>0.0</td>\n",
              "      <td>0.0</td>\n",
              "      <td>1.0</td>\n",
              "      <td>0.0</td>\n",
              "      <td>0.0</td>\n",
              "      <td>91.0</td>\n",
              "      <td>10.0</td>\n",
              "      <td>0</td>\n",
              "    </tr>\n",
              "    <tr>\n",
              "      <th>1</th>\n",
              "      <td>8</td>\n",
              "      <td>2</td>\n",
              "      <td>1</td>\n",
              "      <td>1.0</td>\n",
              "      <td>1.0</td>\n",
              "      <td>5</td>\n",
              "      <td>69.0</td>\n",
              "      <td>0.0</td>\n",
              "      <td>1.0</td>\n",
              "      <td>0.0</td>\n",
              "      <td>3.0</td>\n",
              "      <td>208.0</td>\n",
              "      <td>12.0</td>\n",
              "      <td>0</td>\n",
              "    </tr>\n",
              "    <tr>\n",
              "      <th>2</th>\n",
              "      <td>10</td>\n",
              "      <td>1</td>\n",
              "      <td>1</td>\n",
              "      <td>1.0</td>\n",
              "      <td>1.0</td>\n",
              "      <td>6</td>\n",
              "      <td>69.0</td>\n",
              "      <td>4.0</td>\n",
              "      <td>1.0</td>\n",
              "      <td>6.0</td>\n",
              "      <td>15.0</td>\n",
              "      <td>221.0</td>\n",
              "      <td>17.0</td>\n",
              "      <td>0</td>\n",
              "    </tr>\n",
              "    <tr>\n",
              "      <th>3</th>\n",
              "      <td>4</td>\n",
              "      <td>1</td>\n",
              "      <td>1</td>\n",
              "      <td>2.0</td>\n",
              "      <td>0.0</td>\n",
              "      <td>2</td>\n",
              "      <td>26.0</td>\n",
              "      <td>0.0</td>\n",
              "      <td>0.0</td>\n",
              "      <td>4.0</td>\n",
              "      <td>0.0</td>\n",
              "      <td>99.0</td>\n",
              "      <td>5.0</td>\n",
              "      <td>0</td>\n",
              "    </tr>\n",
              "    <tr>\n",
              "      <th>4</th>\n",
              "      <td>4</td>\n",
              "      <td>1</td>\n",
              "      <td>1</td>\n",
              "      <td>1.0</td>\n",
              "      <td>3.0</td>\n",
              "      <td>3</td>\n",
              "      <td>67.0</td>\n",
              "      <td>0.0</td>\n",
              "      <td>2.0</td>\n",
              "      <td>4.0</td>\n",
              "      <td>2.0</td>\n",
              "      <td>315.0</td>\n",
              "      <td>20.0</td>\n",
              "      <td>0</td>\n",
              "    </tr>\n",
              "    <tr>\n",
              "      <th>...</th>\n",
              "      <td>...</td>\n",
              "      <td>...</td>\n",
              "      <td>...</td>\n",
              "      <td>...</td>\n",
              "      <td>...</td>\n",
              "      <td>...</td>\n",
              "      <td>...</td>\n",
              "      <td>...</td>\n",
              "      <td>...</td>\n",
              "      <td>...</td>\n",
              "      <td>...</td>\n",
              "      <td>...</td>\n",
              "      <td>...</td>\n",
              "      <td>...</td>\n",
              "    </tr>\n",
              "    <tr>\n",
              "      <th>58971</th>\n",
              "      <td>8</td>\n",
              "      <td>1</td>\n",
              "      <td>0</td>\n",
              "      <td>2.0</td>\n",
              "      <td>0.0</td>\n",
              "      <td>2</td>\n",
              "      <td>78.0</td>\n",
              "      <td>6.0</td>\n",
              "      <td>1.0</td>\n",
              "      <td>5.0</td>\n",
              "      <td>12.0</td>\n",
              "      <td>140.0</td>\n",
              "      <td>9.0</td>\n",
              "      <td>0</td>\n",
              "    </tr>\n",
              "    <tr>\n",
              "      <th>58972</th>\n",
              "      <td>4</td>\n",
              "      <td>1</td>\n",
              "      <td>0</td>\n",
              "      <td>4.0</td>\n",
              "      <td>0.0</td>\n",
              "      <td>0</td>\n",
              "      <td>8.0</td>\n",
              "      <td>3.0</td>\n",
              "      <td>1.0</td>\n",
              "      <td>0.0</td>\n",
              "      <td>6.0</td>\n",
              "      <td>55.0</td>\n",
              "      <td>1.0</td>\n",
              "      <td>1</td>\n",
              "    </tr>\n",
              "    <tr>\n",
              "      <th>58973</th>\n",
              "      <td>17</td>\n",
              "      <td>2</td>\n",
              "      <td>1</td>\n",
              "      <td>1.0</td>\n",
              "      <td>1.0</td>\n",
              "      <td>8</td>\n",
              "      <td>72.0</td>\n",
              "      <td>9.0</td>\n",
              "      <td>6.0</td>\n",
              "      <td>6.0</td>\n",
              "      <td>53.0</td>\n",
              "      <td>300.0</td>\n",
              "      <td>26.0</td>\n",
              "      <td>0</td>\n",
              "    </tr>\n",
              "    <tr>\n",
              "      <th>58974</th>\n",
              "      <td>9</td>\n",
              "      <td>1</td>\n",
              "      <td>0</td>\n",
              "      <td>1.0</td>\n",
              "      <td>8.0</td>\n",
              "      <td>41</td>\n",
              "      <td>175.0</td>\n",
              "      <td>0.0</td>\n",
              "      <td>24.0</td>\n",
              "      <td>19.0</td>\n",
              "      <td>0.0</td>\n",
              "      <td>523.0</td>\n",
              "      <td>25.0</td>\n",
              "      <td>0</td>\n",
              "    </tr>\n",
              "    <tr>\n",
              "      <th>58975</th>\n",
              "      <td>7</td>\n",
              "      <td>1</td>\n",
              "      <td>0</td>\n",
              "      <td>1.0</td>\n",
              "      <td>1.0</td>\n",
              "      <td>1</td>\n",
              "      <td>18.0</td>\n",
              "      <td>3.0</td>\n",
              "      <td>2.0</td>\n",
              "      <td>2.0</td>\n",
              "      <td>13.0</td>\n",
              "      <td>74.0</td>\n",
              "      <td>4.0</td>\n",
              "      <td>0</td>\n",
              "    </tr>\n",
              "  </tbody>\n",
              "</table>\n",
              "<p>58976 rows × 14 columns</p>\n",
              "</div>"
            ],
            "text/plain": [
              "       num_diagnosis  ADMISSION_TYPE  ...  num_noteevent  1_yr_mortality\n",
              "0                  7               1  ...           10.0               0\n",
              "1                  8               2  ...           12.0               0\n",
              "2                 10               1  ...           17.0               0\n",
              "3                  4               1  ...            5.0               0\n",
              "4                  4               1  ...           20.0               0\n",
              "...              ...             ...  ...            ...             ...\n",
              "58971              8               1  ...            9.0               0\n",
              "58972              4               1  ...            1.0               1\n",
              "58973             17               2  ...           26.0               0\n",
              "58974              9               1  ...           25.0               0\n",
              "58975              7               1  ...            4.0               0\n",
              "\n",
              "[58976 rows x 14 columns]"
            ]
          },
          "metadata": {
            "tags": []
          },
          "execution_count": 31
        }
      ]
    },
    {
      "cell_type": "markdown",
      "metadata": {
        "id": "0JquHC83ZyTN"
      },
      "source": [
        "### Training/Testing Data Split"
      ]
    },
    {
      "cell_type": "code",
      "metadata": {
        "colab": {
          "base_uri": "https://localhost:8080/"
        },
        "id": "COI42HbvNvRd",
        "outputId": "8d960561-c241-4fc5-ebef-1248aab64589"
      },
      "source": [
        "# Convert matrix to arry type\n",
        "model_df = model_matrix.values\n",
        "model_df"
      ],
      "execution_count": null,
      "outputs": [
        {
          "output_type": "execute_result",
          "data": {
            "text/plain": [
              "array([[  7.,   1.,   0., ...,  91.,  10.,   0.],\n",
              "       [  8.,   2.,   1., ..., 208.,  12.,   0.],\n",
              "       [ 10.,   1.,   1., ..., 221.,  17.,   0.],\n",
              "       ...,\n",
              "       [ 17.,   2.,   1., ..., 300.,  26.,   0.],\n",
              "       [  9.,   1.,   0., ..., 523.,  25.,   0.],\n",
              "       [  7.,   1.,   0., ...,  74.,   4.,   0.]])"
            ]
          },
          "metadata": {
            "tags": []
          },
          "execution_count": 20
        }
      ]
    },
    {
      "cell_type": "code",
      "metadata": {
        "id": "7h1o5YTFkvPH"
      },
      "source": [
        "# Split and standardlize the training and testing dataset\n",
        "X_train, X_test, y_train, y_test = train_test_split(model_df[:, :-1], model_df[:, -1])\n",
        "\n",
        "scaler = StandardScaler()\n",
        "X_train_scaled = scaler.fit_transform(X_train)\n",
        "X_test_scaled = scaler.transform(X_test)"
      ],
      "execution_count": null,
      "outputs": []
    },
    {
      "cell_type": "code",
      "metadata": {
        "colab": {
          "base_uri": "https://localhost:8080/"
        },
        "id": "8bjXDFoictCi",
        "outputId": "19730374-5daa-488c-f536-df1f71e03ffa"
      },
      "source": [
        "X_train_scaled"
      ],
      "execution_count": null,
      "outputs": [
        {
          "output_type": "execute_result",
          "data": {
            "text/plain": [
              "array([[-0.78524935,  0.6574417 ,  0.88623936, ..., -0.36062001,\n",
              "        -0.42639631, -0.42869257],\n",
              "       [ 1.07770892, -0.57711408,  0.88623936, ...,  2.6118613 ,\n",
              "         3.35859511,  4.75603394],\n",
              "       [-0.16426326, -0.57711408,  0.88623936, ..., -0.36062001,\n",
              "        -0.38298139, -0.37802749],\n",
              "       ...,\n",
              "       [-0.16426326, -0.57711408,  0.88623936, ..., -0.36062001,\n",
              "         0.1320774 , -0.02337193],\n",
              "       [ 0.61196935, -0.57711408,  0.88623936, ..., -0.36062001,\n",
              "        -0.24681643, -0.05714865],\n",
              "       [ 0.14622979, -0.57711408,  0.88623936, ..., -0.03454495,\n",
              "         0.00775286, -0.12470209]])"
            ]
          },
          "metadata": {
            "tags": []
          },
          "execution_count": 22
        }
      ]
    },
    {
      "cell_type": "markdown",
      "metadata": {
        "id": "cz1UeuW9wNaL"
      },
      "source": [
        "### Model Selection"
      ]
    },
    {
      "cell_type": "markdown",
      "metadata": {
        "id": "k6MKUCH2KLib"
      },
      "source": [
        "You'd want to first know which model suit our data best. I picked several models to use, including Logistic Regression, Linear Discriminant Analysis, KNN, Decision Tree, Random Forest, and then Gaussian NB. Here we want to do a K Fold search to figure out which model has the highest score performance."
      ]
    },
    {
      "cell_type": "code",
      "metadata": {
        "colab": {
          "base_uri": "https://localhost:8080/",
          "height": 396
        },
        "id": "SEC9Huja_WxE",
        "outputId": "d7a4f8b3-2c2b-4dd5-b31b-46bee8e9b62f"
      },
      "source": [
        "# prepare models\n",
        "models = []\n",
        "models.append(('LR', LogisticRegression()))\n",
        "models.append(('LDA', LinearDiscriminantAnalysis()))\n",
        "models.append(('KNN', KNeighborsClassifier()))\n",
        "models.append(('CART', DecisionTreeClassifier()))\n",
        "models.append(('RF', RandomForestClassifier()))\n",
        "models.append(('NB', GaussianNB()))\n",
        "# evaluate each model in turn\n",
        "results = []\n",
        "names = []\n",
        "scoring = 'accuracy'\n",
        "for name, model in models:\n",
        "\tkfold = model_selection.KFold(n_splits=10)\n",
        "\tcv_results = model_selection.cross_val_score(model, X_train_scaled, y_train, cv=kfold, scoring=scoring)\n",
        "\tresults.append(cv_results)\n",
        "\tnames.append(name)\n",
        "\tmsg = \"%s: %f (%f)\" % (name, cv_results.mean(), cv_results.std())\n",
        "\tprint(msg)\n",
        "# boxplot algorithm comparison\n",
        "fig = plt.figure()\n",
        "fig.suptitle('Algorithm Comparison')\n",
        "ax = fig.add_subplot(111)\n",
        "plt.boxplot(results)\n",
        "ax.set_xticklabels(names)\n",
        "plt.show()"
      ],
      "execution_count": null,
      "outputs": [
        {
          "output_type": "stream",
          "text": [
            "LR: 0.771229 (0.006661)\n",
            "LDA: 0.769850 (0.005404)\n",
            "KNN: 0.757777 (0.006309)\n",
            "CART: 0.724589 (0.005472)\n",
            "RF: 0.802632 (0.004170)\n",
            "NB: 0.745524 (0.008619)\n"
          ],
          "name": "stdout"
        },
        {
          "output_type": "display_data",
          "data": {
            "image/png": "[encoded data removed]",
            "text/plain": [
              "<Figure size 432x288 with 1 Axes>"
            ]
          },
          "metadata": {
            "tags": [],
            "needs_background": "light"
          }
        }
      ]
    },
    {
      "cell_type": "markdown",
      "metadata": {
        "id": "jfSDXzGeO-8g"
      },
      "source": [
        "\n",
        "It is very obvious that Random Forest has the best performance. Other models seems subpar."
      ]
    },
    {
      "cell_type": "markdown",
      "metadata": {
        "id": "nZTbBI0sPBl7"
      },
      "source": [
        "### Model Training, Hyperparameter Tuning, Metrics"
      ]
    },
    {
      "cell_type": "markdown",
      "metadata": {
        "id": "2_jmlZEGBEuV"
      },
      "source": [
        "Let's first talk about whether to use Classifier or Regressor. In a classification RF, each tree's prediction is a class label. The final RF prediction will take a majority vote over these predictions. In a regression RF, each tree's prediction is a numeric value. The final RF prediction will take the average over these predictions.\n",
        "\n",
        "For our case, we're predicting mortality, which is a binary classification problem. I understand RFregressor works too in this situation by setting to numeric value, but intuition would be that RFclassifier is faster.\n",
        "\n",
        "Also, considering data is discrete (binary 0/1), instead of continuous. RandomForestRegressor supports continuous format while Classifier supports discrete format. In this case, going back to the problem per se (as it is a classification problem), I would go with Classifier."
      ]
    },
    {
      "cell_type": "code",
      "metadata": {
        "colab": {
          "base_uri": "https://localhost:8080/"
        },
        "id": "iuK9VieNwP6p",
        "outputId": "c00c81a2-751a-42c9-fc7f-68158d7eea83"
      },
      "source": [
        "# Let's try a random forest model first with my initial hyperparameters\n",
        "rf_model = RandomForestClassifier(n_estimators=20,criterion='gini',\\\n",
        "                                  random_state=None, max_features = 'auto',\\\n",
        "                                  max_samples=0.5)\n",
        "\n",
        "# Fit the random forest to the data\n",
        "rf_model.fit(X_train_scaled, y_train)\n",
        "test_probs = rf_model.predict_proba(X_test_scaled)\n",
        "test_probs = test_probs[:,1]\n",
        "\n",
        "roc_value = roc_auc_score(y_test, test_probs)\n",
        "print('ROC value is {:.3f}'.format(roc_value))"
      ],
      "execution_count": null,
      "outputs": [
        {
          "output_type": "stream",
          "text": [
            "ROC value is 0.797\n"
          ],
          "name": "stdout"
        }
      ]
    },
    {
      "cell_type": "markdown",
      "metadata": {
        "id": "n8KrizXFEYe2"
      },
      "source": [
        "Looking good. Now we want to perform hyperparameter tuning to find the best parameters. Here are the parameters that I'm specifically looking at: criterion, n_estimators, random_state, max_features, and then max_samples"
      ]
    },
    {
      "cell_type": "code",
      "metadata": {
        "colab": {
          "base_uri": "https://localhost:8080/"
        },
        "id": "t7tLQ8aDD8Eq",
        "outputId": "182f3ac5-f19f-4eb6-bdba-8055c5a21a66"
      },
      "source": [
        "# Find the best parameters for the random forest\n",
        "params = {'criterion':['entropy','gini'],'n_estimators':[20, 40, 60, 100],\n",
        "          'random_state':[None, 0],'max_features':['log2','auto'],\n",
        "          'max_samples':[0.5,None]}\n",
        "\n",
        "model = RandomForestClassifier()\n",
        "grid_search = GridSearchCV(model,params,cv=3)\n",
        "grid_search.fit(X_train,y_train)"
      ],
      "execution_count": null,
      "outputs": [
        {
          "output_type": "execute_result",
          "data": {
            "text/plain": [
              "GridSearchCV(cv=3, error_score=nan,\n",
              "             estimator=RandomForestClassifier(bootstrap=True, ccp_alpha=0.0,\n",
              "                                              class_weight=None,\n",
              "                                              criterion='gini', max_depth=None,\n",
              "                                              max_features='auto',\n",
              "                                              max_leaf_nodes=None,\n",
              "                                              max_samples=None,\n",
              "                                              min_impurity_decrease=0.0,\n",
              "                                              min_impurity_split=None,\n",
              "                                              min_samples_leaf=1,\n",
              "                                              min_samples_split=2,\n",
              "                                              min_weight_fraction_leaf=0.0,\n",
              "                                              n_estimators=100, n_jobs=None,\n",
              "                                              oob_score=False,\n",
              "                                              random_state=None, verbose=0,\n",
              "                                              warm_start=False),\n",
              "             iid='deprecated', n_jobs=None,\n",
              "             param_grid={'criterion': ['entropy', 'gini'],\n",
              "                         'max_features': ['log2', 'auto'],\n",
              "                         'max_samples': [0.5, None],\n",
              "                         'n_estimators': [20, 40, 60, 100],\n",
              "                         'random_state': [None, 0]},\n",
              "             pre_dispatch='2*n_jobs', refit=True, return_train_score=False,\n",
              "             scoring=None, verbose=0)"
            ]
          },
          "metadata": {
            "tags": []
          },
          "execution_count": 89
        }
      ]
    },
    {
      "cell_type": "code",
      "metadata": {
        "colab": {
          "base_uri": "https://localhost:8080/"
        },
        "id": "_GbHqIjCFKdo",
        "outputId": "ae169a21-dcaf-4b48-bc87-6b982f862038"
      },
      "source": [
        "grid_search.best_params_"
      ],
      "execution_count": null,
      "outputs": [
        {
          "output_type": "execute_result",
          "data": {
            "text/plain": [
              "{'criterion': 'entropy',\n",
              " 'max_features': 'log2',\n",
              " 'max_samples': None,\n",
              " 'n_estimators': 100,\n",
              " 'random_state': 0}"
            ]
          },
          "metadata": {
            "tags": []
          },
          "execution_count": 90
        }
      ]
    },
    {
      "cell_type": "code",
      "metadata": {
        "colab": {
          "base_uri": "https://localhost:8080/"
        },
        "id": "7LMyh_rIHNoG",
        "outputId": "ef142786-9985-4c56-ba6f-7f5f3beac204"
      },
      "source": [
        "# Retain the model with the best parameters\n",
        "rf_model = RandomForestClassifier(n_estimators=100,criterion='entropy',\\\n",
        "                                  random_state=0, max_features = 'log2',\\\n",
        "                                  max_samples=None)\n",
        "\n",
        "# Fit the random forest to the data\n",
        "rf_model.fit(X_train_scaled, y_train)\n",
        "\n",
        "test_probs = rf_model.predict_proba(X_test_scaled)\n",
        "test_probs = test_probs[:,1]\n",
        "\n",
        "roc_value = roc_auc_score(y_test, test_probs)\n",
        "print('ROC value is {:.3f}'.format(roc_value))"
      ],
      "execution_count": null,
      "outputs": [
        {
          "output_type": "stream",
          "text": [
            "ROC value is 0.817\n"
          ],
          "name": "stdout"
        }
      ]
    },
    {
      "cell_type": "code",
      "metadata": {
        "colab": {
          "base_uri": "https://localhost:8080/",
          "height": 279
        },
        "id": "90TECMBgvmE1",
        "outputId": "4334cf02-e6c1-4eb4-ebe1-b273a766880d"
      },
      "source": [
        "# Plot confusion matrix to show the performance of selected model\n",
        "y_pred = rf_model.predict(X_test)\n",
        "plot_confusion_matrix(rf_model, X_test, y_test, cmap=plt.cm.Blues)\n",
        "plt.show()\n"
      ],
      "execution_count": null,
      "outputs": [
        {
          "output_type": "display_data",
          "data": {
            "image/png": "[encoded data removed]",
            "text/plain": [
              "<Figure size 432x288 with 2 Axes>"
            ]
          },
          "metadata": {
            "tags": [],
            "needs_background": "light"
          }
        }
      ]
    },
    {
      "cell_type": "code",
      "metadata": {
        "colab": {
          "base_uri": "https://localhost:8080/"
        },
        "id": "5y40K10rGroQ",
        "outputId": "8e4cac85-ad59-4e24-a823-bcf9142924f8"
      },
      "source": [
        "# Now that's try gradient boosting to see if it can improve the model performance\n",
        "\n",
        "# Find the best parameters for the gradient bossting classifier\n",
        "params = {'n_estimators':[20, 40, 60, 100], 'learning_rate':[0.1, 0.2, 0.5, 1],\n",
        "          'random_state':[None, 0],'max_depth':[1, 2, 5, 10]}\n",
        "\n",
        "model = GradientBoostingClassifier()\n",
        "grid_search = GridSearchCV(model,params,cv=3)\n",
        "grid_search.fit(X_train,y_train)"
      ],
      "execution_count": null,
      "outputs": [
        {
          "output_type": "execute_result",
          "data": {
            "text/plain": [
              "GridSearchCV(cv=3, error_score=nan,\n",
              "             estimator=GradientBoostingClassifier(ccp_alpha=0.0,\n",
              "                                                  criterion='friedman_mse',\n",
              "                                                  init=None, learning_rate=0.1,\n",
              "                                                  loss='deviance', max_depth=3,\n",
              "                                                  max_features=None,\n",
              "                                                  max_leaf_nodes=None,\n",
              "                                                  min_impurity_decrease=0.0,\n",
              "                                                  min_impurity_split=None,\n",
              "                                                  min_samples_leaf=1,\n",
              "                                                  min_samples_split=2,\n",
              "                                                  min_weight_fraction_leaf=0.0,\n",
              "                                                  n_estimators=100,\n",
              "                                                  n_iter_no_c...\n",
              "                                                  presort='deprecated',\n",
              "                                                  random_state=None,\n",
              "                                                  subsample=1.0, tol=0.0001,\n",
              "                                                  validation_fraction=0.1,\n",
              "                                                  verbose=0, warm_start=False),\n",
              "             iid='deprecated', n_jobs=None,\n",
              "             param_grid={'learning_rate': [0.1, 0.2, 0.5, 1],\n",
              "                         'max_depth': [1, 2, 5, 10],\n",
              "                         'n_estimators': [20, 40, 60, 100],\n",
              "                         'random_state': [None, 0]},\n",
              "             pre_dispatch='2*n_jobs', refit=True, return_train_score=False,\n",
              "             scoring=None, verbose=0)"
            ]
          },
          "metadata": {
            "tags": []
          },
          "execution_count": 31
        }
      ]
    },
    {
      "cell_type": "code",
      "metadata": {
        "colab": {
          "base_uri": "https://localhost:8080/"
        },
        "id": "q5vFygNBJHbH",
        "outputId": "9d17303a-e37a-4cee-c3c3-360bd43fd3f8"
      },
      "source": [
        "grid_search.best_params_"
      ],
      "execution_count": null,
      "outputs": [
        {
          "output_type": "execute_result",
          "data": {
            "text/plain": [
              "{'learning_rate': 0.1, 'max_depth': 5, 'n_estimators': 100, 'random_state': 0}"
            ]
          },
          "metadata": {
            "tags": []
          },
          "execution_count": 32
        }
      ]
    },
    {
      "cell_type": "code",
      "metadata": {
        "colab": {
          "base_uri": "https://localhost:8080/"
        },
        "id": "47BYZA8GSgc7",
        "outputId": "08ce60a1-f43c-43f4-e0ae-0be8eb428d04"
      },
      "source": [
        "# Retrain the gradient bossting with the best parameters\n",
        "gb_model = GradientBoostingClassifier(n_estimators=100, random_state=0,\\\n",
        "                                  max_depth = 5, learning_rate = 0.1)\n",
        "\n",
        "# Fit the random forest to the data\n",
        "gb_model.fit(X_train_scaled, y_train)\n",
        "test_probs_gb = gb_model.predict_proba(X_test_scaled)\n",
        "test_probs_gb = test_probs_gb[:,1]\n",
        "\n",
        "roc_value = roc_auc_score(y_test, test_probs_gb)\n",
        "print('ROC value is {:.3f}'.format(roc_value))"
      ],
      "execution_count": null,
      "outputs": [
        {
          "output_type": "stream",
          "text": [
            "ROC value is 0.821\n"
          ],
          "name": "stdout"
        }
      ]
    },
    {
      "cell_type": "markdown",
      "metadata": {
        "id": "Jv8xbj8qHc3v"
      },
      "source": [
        "From here, hyperparameter tuning is completed. We could do more with more time, but we are satisfied with a 0.816 ROC score for the random forest and 0.821 for the gradient boosting.\n",
        "\n",
        "Now let's do analysis from our ROC score, starting a ROC curve."
      ]
    },
    {
      "cell_type": "code",
      "metadata": {
        "colab": {
          "base_uri": "https://localhost:8080/",
          "height": 312
        },
        "id": "jT49C0kZ7Ooc",
        "outputId": "1adae54a-c226-43ae-9e00-509db71ecc6d"
      },
      "source": [
        "# Plot ROC curves for random forest and gradient boosting\n",
        "fpr, tpr, thresholds = roc_curve(y_test, test_probs)\n",
        "fpr_gb, tpr_gb, thresholds_gb = roc_curve(y_test, test_probs_gb)\n",
        "plt.plot(fpr, tpr, label='random forest')\n",
        "plt.plot(fpr_gb, tpr_gb, label='gradient boost')\n",
        "plt.plot([0,1], [0,1], label='baseline')\n",
        "plt.title('roc curve')\n",
        "plt.xlabel('false positive')\n",
        "plt.ylabel('true positive')\n",
        "plt.legend()"
      ],
      "execution_count": null,
      "outputs": [
        {
          "output_type": "execute_result",
          "data": {
            "text/plain": [
              "<matplotlib.legend.Legend at 0x7fed420d57d0>"
            ]
          },
          "metadata": {
            "tags": []
          },
          "execution_count": 30
        },
        {
          "output_type": "display_data",
          "data": {
            "image/png": "[encoded data removed]",
            "text/plain": [
              "<Figure size 432x288 with 1 Axes>"
            ]
          },
          "metadata": {
            "tags": [],
            "needs_background": "light"
          }
        }
      ]
    },
    {
      "cell_type": "markdown",
      "metadata": {
        "id": "BrFaMIfzPYGR"
      },
      "source": [
        "### Feature Visualization, K-Folds on ROC curve"
      ]
    },
    {
      "cell_type": "markdown",
      "metadata": {
        "id": "gWuC8G9FHtg5"
      },
      "source": [
        "It's always more relatable to see feature importance. Let's calculate feature importance from our model and then visualize them using our fitted model."
      ]
    },
    {
      "cell_type": "code",
      "metadata": {
        "id": "PLgem5zBxTsn"
      },
      "source": [
        "def calc_feature_importances(model,feature_names,num_to_show):\n",
        "\n",
        "    \"\"\"\n",
        "    Extract essential features from datasets\n",
        "\n",
        "    Parameters\n",
        "    ----------\n",
        "    model: model()\n",
        "      model from sklearn\n",
        "    feature_names: str\n",
        "      Name of the columns for selected features\n",
        "    num_to_show: int\n",
        "      Number of features to display\n",
        "\n",
        "    Returns\n",
        "    -------\n",
        "    None\n",
        "    \"\"\"\n",
        "    importances = model.feature_importances_\n",
        "    indices = np.argsort(importances)[::-1]\n",
        "    ranked_feats = []\n",
        "    for i in range(len(indices)):\n",
        "        feature_name = feature_names[indices[i]]\n",
        "        ranked_feats.append(feature_name)\n",
        "    RF_ranking = {'Feat Index':[], 'Feature':[], 'Importance':[]}\n",
        "    RF_ranking['Feat Index'].extend(indices)\n",
        "    RF_ranking['Feature'].extend(ranked_feats)\n",
        "    RF_ranking['Importance'].extend(np.sort(importances)[::-1])\n",
        "\n",
        "    RF_ranking = pd.DataFrame(RF_ranking)\n",
        "    display(RF_ranking.iloc[:num_to_show,:])\n",
        "\n",
        "    # Plot the importance value for each feature\n",
        "    RF_ranking[:num_to_show][::-1].plot(x='Feature',y='Importance',kind='barh',title='RF Feature Importance', figsize=(10,7))\n",
        "    plt.show()\n",
        "    return"
      ],
      "execution_count": null,
      "outputs": []
    },
    {
      "cell_type": "code",
      "metadata": {
        "colab": {
          "base_uri": "https://localhost:8080/",
          "height": 786
        },
        "id": "EPzqnih-0DYg",
        "outputId": "54f516bb-e0a8-4741-e36c-a3b94ce951e4"
      },
      "source": [
        "# Instantiate a random forest, fit it to the data and then run the function to calculate feature importance\n",
        "top_feats = 10\n",
        "calc_feature_importances(rf_model,model_matrix.columns,top_feats)"
      ],
      "execution_count": null,
      "outputs": [
        {
          "output_type": "display_data",
          "data": {
            "text/html": [
              "<div>\n",
              "<style scoped>\n",
              "    .dataframe tbody tr th:only-of-type {\n",
              "        vertical-align: middle;\n",
              "    }\n",
              "\n",
              "    .dataframe tbody tr th {\n",
              "        vertical-align: top;\n",
              "    }\n",
              "\n",
              "    .dataframe thead th {\n",
              "        text-align: right;\n",
              "    }\n",
              "</style>\n",
              "<table border=\"1\" class=\"dataframe\">\n",
              "  <thead>\n",
              "    <tr style=\"text-align: right;\">\n",
              "      <th></th>\n",
              "      <th>Feat Index</th>\n",
              "      <th>Feature</th>\n",
              "      <th>Importance</th>\n",
              "    </tr>\n",
              "  </thead>\n",
              "  <tbody>\n",
              "    <tr>\n",
              "      <th>0</th>\n",
              "      <td>11</td>\n",
              "      <td>num_labevent</td>\n",
              "      <td>0.127030</td>\n",
              "    </tr>\n",
              "    <tr>\n",
              "      <th>1</th>\n",
              "      <td>5</td>\n",
              "      <td>length_of_stay</td>\n",
              "      <td>0.114088</td>\n",
              "    </tr>\n",
              "    <tr>\n",
              "      <th>2</th>\n",
              "      <td>6</td>\n",
              "      <td>num_prescription</td>\n",
              "      <td>0.101923</td>\n",
              "    </tr>\n",
              "    <tr>\n",
              "      <th>3</th>\n",
              "      <td>0</td>\n",
              "      <td>num_diagnosis</td>\n",
              "      <td>0.099602</td>\n",
              "    </tr>\n",
              "    <tr>\n",
              "      <th>4</th>\n",
              "      <td>12</td>\n",
              "      <td>num_noteevent</td>\n",
              "      <td>0.096960</td>\n",
              "    </tr>\n",
              "    <tr>\n",
              "      <th>5</th>\n",
              "      <td>8</td>\n",
              "      <td>num_microbioevent</td>\n",
              "      <td>0.093416</td>\n",
              "    </tr>\n",
              "    <tr>\n",
              "      <th>6</th>\n",
              "      <td>9</td>\n",
              "      <td>num_cptevent</td>\n",
              "      <td>0.089360</td>\n",
              "    </tr>\n",
              "    <tr>\n",
              "      <th>7</th>\n",
              "      <td>10</td>\n",
              "      <td>num_daytimeevent</td>\n",
              "      <td>0.077925</td>\n",
              "    </tr>\n",
              "    <tr>\n",
              "      <th>8</th>\n",
              "      <td>4</td>\n",
              "      <td>ICU_stay</td>\n",
              "      <td>0.056007</td>\n",
              "    </tr>\n",
              "    <tr>\n",
              "      <th>9</th>\n",
              "      <td>7</td>\n",
              "      <td>num_procedureevent</td>\n",
              "      <td>0.044587</td>\n",
              "    </tr>\n",
              "  </tbody>\n",
              "</table>\n",
              "</div>"
            ],
            "text/plain": [
              "   Feat Index             Feature  Importance\n",
              "0          11        num_labevent    0.127030\n",
              "1           5      length_of_stay    0.114088\n",
              "2           6    num_prescription    0.101923\n",
              "3           0       num_diagnosis    0.099602\n",
              "4          12       num_noteevent    0.096960\n",
              "5           8   num_microbioevent    0.093416\n",
              "6           9        num_cptevent    0.089360\n",
              "7          10    num_daytimeevent    0.077925\n",
              "8           4            ICU_stay    0.056007\n",
              "9           7  num_procedureevent    0.044587"
            ]
          },
          "metadata": {
            "tags": []
          }
        },
        {
          "output_type": "display_data",
          "data": {
            "image/png": "[encoded data removed]",
            "text/plain": [
              "<Figure size 720x504 with 1 Axes>"
            ]
          },
          "metadata": {
            "tags": [],
            "needs_background": "light"
          }
        }
      ]
    },
    {
      "cell_type": "markdown",
      "metadata": {
        "id": "gYpc8l4z-Jkf"
      },
      "source": [
        "Now it'd be more accurate if we use all samples by k-fold and then generalize the error. The goal of cross-validation is to test the model's ability to predict new data that was not used in estimating it, in order to flag problems like overfitting or selection bias and to give an insight on how the model will generalize to an independent dataset (i.e., an unknown dataset, for instance from a real problem)."
      ]
    },
    {
      "cell_type": "code",
      "metadata": {
        "colab": {
          "base_uri": "https://localhost:8080/",
          "height": 512
        },
        "id": "qkNT0_SE1fgI",
        "outputId": "16af2143-9e3f-42fb-b44c-4e05fbfd1248"
      },
      "source": [
        "# Plot ROC curves on different folds\n",
        "kf = KFold(n_splits=10)\n",
        "\n",
        "mse_folds = []\n",
        "rf_errors = []\n",
        "roc_values = []\n",
        "\n",
        "i = 0\n",
        "plt.figure(figsize=(10,7))\n",
        "for (train_idx,val_idx) in kf.split(X=X_train_scaled,y=y_train):\n",
        "    # Split training and validation sets for each fold\n",
        "    X_fold_train, X_fold_val = X_train_scaled[train_idx], X_train_scaled[val_idx]\n",
        "    y_fold_train, y_fold_val = y_train[train_idx], y_train[val_idx]\n",
        "\n",
        "    # Fit model to the training data for this iteration\n",
        "    rf_model.fit(X_fold_train,y_fold_train)\n",
        "\n",
        "    # Get predictions for the validation fold and calculate mse\n",
        "    val_preds = rf_model.predict_proba(X_fold_val)[:,1]\n",
        "    mse_val = mean_squared_error(y_fold_val,val_preds)\n",
        "    roc_score = roc_auc_score(y_fold_val, val_preds)\n",
        "    mse_folds.append(mse_val)\n",
        "    roc_values.append(roc_score)\n",
        "\n",
        "    fpr, tpr, thresholds = roc_curve(y_fold_val, val_preds)\n",
        "    plt.plot(fpr, tpr, label='ROC fold %d (area = %0.2f)' % (i, roc_score))\n",
        "\n",
        "    i += 1\n",
        "\n",
        "plt.plot([0,1], [0,1], label='baseline')\n",
        "plt.title('roc curve')\n",
        "plt.xlabel('false positive')\n",
        "plt.ylabel('true positive')\n",
        "plt.legend()\n",
        "\n",
        "print(np.mean(mse_folds))\n",
        "print(roc_values)"
      ],
      "execution_count": null,
      "outputs": [
        {
          "output_type": "stream",
          "text": [
            "0.13730824199298872\n",
            "[0.8134573244746751, 0.8035480856877852, 0.8162642590370126, 0.808882507842891, 0.8108052991200345, 0.8198925154651272, 0.8182281030893271, 0.8161801894534781, 0.8125459896983076, 0.8211294480530446]\n"
          ],
          "name": "stdout"
        },
        {
          "output_type": "display_data",
          "data": {
            "image/png": "[encoded data removed]",
            "text/plain": [
              "<Figure size 720x504 with 1 Axes>"
            ]
          },
          "metadata": {
            "tags": []
          }
        }
      ]
    },
    {
      "cell_type": "markdown",
      "metadata": {
        "id": "WlmsX4_2-VDo"
      },
      "source": [
        "Conclusion from K-fold (ROC curve and MSE value): every piece of training data have been tested, and no obvious overfitting is observed."
      ]
    },
    {
      "cell_type": "code",
      "metadata": {
        "colab": {
          "base_uri": "https://localhost:8080/"
        },
        "id": "91yRE9X07teR",
        "outputId": "213a782f-e9b9-4a8a-8adf-0213f2855774"
      },
      "source": [
        "# Display MSE(Mean Square Error)\n",
        "mse_folds"
      ],
      "execution_count": null,
      "outputs": [
        {
          "output_type": "execute_result",
          "data": {
            "text/plain": [
              "[0.1384688666553647,\n",
              " 0.13898917234277677,\n",
              " 0.1342460728138267,\n",
              " 0.13778937372823877,\n",
              " 0.136872042109428,\n",
              " 0.13895374782701536,\n",
              " 0.13825695049865602,\n",
              " 0.13747050518752982,\n",
              " 0.13768847533725223,\n",
              " 0.13434721342979877]"
            ]
          },
          "metadata": {
            "tags": []
          },
          "execution_count": 83
        }
      ]
    },
    {
      "cell_type": "markdown",
      "metadata": {
        "id": "fSgd7Or1PtdS"
      },
      "source": [
        "You can see that MSE value are relatively small too (roughly 0.1). That makes sense since there are definitely space to improve, but 0.1 is definitely not large."
      ]
    },
    {
      "cell_type": "markdown",
      "metadata": {
        "id": "QdIW0rXc_VJg"
      },
      "source": [
        "So far we have covered random forest classifier from model comparison, model set up, hyperparameter tuning, metrics evaluation, and then visualization."
      ]
    },
    {
      "cell_type": "markdown",
      "metadata": {
        "id": "BLrzm3Efb7N9"
      },
      "source": [
        "## Suggestions"
      ]
    },
    {
      "cell_type": "markdown",
      "metadata": {
        "id": "NFqaJeAFQZfP"
      },
      "source": [
        "If we want to look at MSE values, as we discussed above, they are definitely not that large; but that doesn't mean it is optimal. Also, ROC score gives a 0.812 performance, which is also good but not optimal. We have a tremendous gap to fill before making this a reliable model on mortality predition using MIMIC data.\n",
        "\n",
        "Let's discuss good stuff first. We did scaling using Standardizer packages, which helps to scale our data during our modeling. We not just put a simple Random Forest model, but also did GridSearch and KFold to find the best model. Moreover, we want to do cross validation to check on our ROC score, in that we make sure that our model is not overfitting.\n",
        "\n",
        "You could picture our model being used on mortality prediction. We are assuming that data in the future does not have a drastic change from what we have so far. Going through the same process, ideally, we could have a >0.8 ROC score and a ~0.1 MSE value. It's definitely not optimal, since the accuracy looks good. However, a 0.8 ROC score will have problems too: if you're designing mortality prediction, you want a high precision, which is yet to be true in our model.\n",
        "\n",
        "Let's talk about improvements from 3 perspectives: Feature selection, hyperparameter tuning, and Model fitting.\n",
        "\n",
        "First of all, feature selection. We basically put all our features into the model. Later we run the feature importance selection, and it is obvious that some features, like numlabevents, have more weights than features like GENDER and admission type. It makes sense too! In reality you would expect minimal relevance between gender, or admission type, or marital status type and mortality. It makes sense to do a reverse feature engineering by deleting less relevant features. What I'm thinking is you could even introduce LASSO with a penalty factor to reduce the features. You could do PCA (Principal Component Analysis), but that might over reduce features since you want to keep some features as well.\n",
        "\n",
        "Second, let's talk about hyperparameter tuning. We did perform a GridSearchCV to find best max_features, max_samples, criterions and n_estimators. However, there are much more attributes that we have not discussed. You would easily think one that's very important; min_sample_leaf. That closely correlates to the overfitting problem. If we do a min_sample_leaf versus MSE, chances are training set have decreasing MSE, while test set will increase as one point. We want to find a min_sample_leaf that's smaller than that point. This is just an example of other hyperparameters that we have not tuned yet.\n",
        "\n",
        "Last, it would go to model fitting. There's not that much to be concerned other than potentials issues rising from KFold. A train/test split especially using KFold assumes our data are iid (independent and identically distributed). However, it might not be the case in our MIMIC sample. Just imagine how numlabevents and admission type are easily correlated. What do we do when they are not independent? I would say introduce a partial dependency model to our model too."
      ]
    },
    {
      "cell_type": "markdown",
      "metadata": {
        "id": "ZwZMaKuRb8rr"
      },
      "source": [
        "## Conclusion"
      ]
    },
    {
      "cell_type": "markdown",
      "metadata": {
        "id": "PLWMhA7hymk7"
      },
      "source": [
        "Our goal for the model is two-fold: the model should be accurate enough for 1-year mortality prediction and the model is easy to implement. Our accuracy is at 80% which is acceptable. \\\n",
        "\n",
        "And it does not require expertise in keeping record of these patient features and feeding them into the model. In our final model, the number of lab events, the length of stay, the number of prescriptions, the number of note events, and the number of micro-events were of top importance in the prediction of mortality. As such, we recommend that the healthcare providers take prioritization in keeping track of these numbers with individual patients. \\\n",
        "\n",
        "Intuitively, the count of these events and procedures may not be finalized until a patient is discharged when the most accurate prediction can be generated. However, if we want to follow a patient's condition, it is not unnecessary to constantly update the patients’ condition and use the model prediction as a reference. The physician would have a better understanding of how the patient's illness may progress and decide if the patient needed closer monitoring during the hospital stay. It should be noted that when using the model, any actions taken as a consequence of the model prediction should not be taken into account when updating the prediction at a later time. For example, if a patient is held at the hospital for additional times because of a positive prediction (1 for death within a year) and the physician wanted to keep them under observation for longer, these extra days and the diagnostic tests that are performed within this period should not be added to the patient's existing record for prediction. \\\n",
        "\n",
        "At this stage, the robustness of the model was not tested for patient records generated under such modified behaviors due to a lack of intention when collecting the data. Also, as mentioned in the suggestion section, since some features are correlated while others aren't, there is a limit of model performance where a model of a single type may not be able to yield a valid result. Future improvement on the model would be to introduce other fitting techniques for a more comprehensive take on the problem.\n"
      ]
    },
    {
      "cell_type": "markdown",
      "metadata": {
        "id": "9v-aqbhItdh6"
      },
      "source": [
        "##Reference"
      ]
    },
    {
      "cell_type": "markdown",
      "metadata": {
        "id": "gx5Lf5ibtlc4"
      },
      "source": [
        "1. https://mimic.physionet.org/mimictables/d_items/\n",
        "2. https://github.com/YaronBlinder/MIMIC-III_readmission/blob/master/notebooks/3_xgboosting.ipynb\n",
        "3. https://machinelearningmastery.com/compare-machine-learning-algorithms-python-scikit-learn/\n",
        "4. https://towardsdatascience.com/how-to-visualize-a-decision-tree-from-a-random-forest-in-python-using-scikit-learn-38ad2d75f21c"
      ]
    },
    {
      "cell_type": "code",
      "metadata": {
        "id": "gw-KjHRptpiA"
      },
      "source": [],
      "execution_count": null,
      "outputs": []
    }
  ]
}